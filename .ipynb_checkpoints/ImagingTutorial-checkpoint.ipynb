{
 "cells": [
  {
   "cell_type": "markdown",
   "metadata": {},
   "source": [
    "Import the packages you need. \n",
    "The notebook only requires astropy.io.fits, but subprocess and copy are useful. Please do not use extra packages without checking with the instructors."
   ]
  },
  {
   "cell_type": "code",
   "execution_count": 1,
   "metadata": {
    "scrolled": true
   },
   "outputs": [
    {
     "name": "stdout",
     "output_type": "stream",
     "text": [
      "Populating the interactive namespace from numpy and matplotlib\n"
     ]
    }
   ],
   "source": [
    "#!/usr/bin/env python\n",
    "%pylab inline\n",
    "from astropy.io import fits\n",
    "import subprocess\n",
    "import copy\n",
    "import matplotlib.pyplot as plt"
   ]
  },
  {
   "cell_type": "markdown",
   "metadata": {},
   "source": [
    "Please follow all tutorial instructions for displaying text and images. The outputs that will be graded are those labeled with a Q. For the graded boxes, if an image is asked for make sure it is labeled. If text is asked for, clearly label it and include units, following the example below:"
   ]
  },
  {
   "cell_type": "code",
   "execution_count": 2,
   "metadata": {
    "scrolled": true
   },
   "outputs": [
    {
     "name": "stdout",
     "output_type": "stream",
     "text": [
      "Vmag of standard star: 12.43 magnitudes\n"
     ]
    }
   ],
   "source": [
    "# example, if Question is \"write the V magnitude of the standard star\" your output might look like the following\n",
    "Vmag=12.43\n",
    "print('Vmag of standard star:',Vmag,'magnitudes')"
   ]
  },
  {
   "cell_type": "markdown",
   "metadata": {},
   "source": [
    "Note on displaying images: It is straight-forward to display images with matplotlib using plt.imshow(imagename). A few keywords you will find useful are \"vmax\" and \"vmin\" which set the image scaling (max and min value). Please also always use the keyword origin='lower', which sets pixel (0,0) in the lower left corner. Example: plt.imshow(imagename,vmax=8000,origin='lower')"
   ]
  },
  {
   "cell_type": "markdown",
   "metadata": {},
   "source": [
    "Display the list of available data files.\n",
    "data_dir is the directory containing the fits files."
   ]
  },
  {
   "cell_type": "code",
   "execution_count": 3,
   "metadata": {},
   "outputs": [
    {
     "name": "stdout",
     "output_type": "stream",
     "text": [
      "['data', 'lris0136.fits', 'lris0137.fits', 'lris0139.fits', 'lris0140.fits', 'lris0147.fits', 'lris0148.fits', 'lris0151.fits', 'lris0152.fits', 'lris0153.fits', 'lris0154.fits', 'lris0155.fits', 'lris0156.fits', 'lris0157.fits', 'lris0158.fits', 'lris0159.fits', 'lris0160.fits', 'lris0161.fits', 'lris0162.fits', 'lris0167.fits', 'lris0172.fits', 'lris0173.fits', 'lris0174.fits', 'lris0175.fits', 'lris0176.fits', 'lris0177.fits', 'lris0178.fits', 'lris0179.fits', 'lris0180.fits', 'lris0181.fits', 'lris0182.fits', '__MACOSX']\n"
     ]
    }
   ],
   "source": [
    "directory = subprocess.os.getcwd() + \"\\\\data\"\n",
    "subprocess.os.listdir(path = directory)\n",
    "file_array = subprocess.os.listdir(path = directory) #the first and last entries aren't fits files\n",
    "print(file_array)"
   ]
  },
  {
   "cell_type": "markdown",
   "metadata": {},
   "source": [
    "# Part I: Orienting yourself to the dataset."
   ]
  },
  {
   "cell_type": "markdown",
   "metadata": {},
   "source": [
    "Explore the fits header keywords, display the header with keywords and their values, and think about what they all represent.\n",
    "For working with fits files: https://docs.astropy.org/en/stable/io/fits/index.html"
   ]
  },
  {
   "cell_type": "code",
   "execution_count": 4,
   "metadata": {
    "scrolled": true
   },
   "outputs": [
    {
     "name": "stdout",
     "output_type": "stream",
     "text": [
      "SIMPLE  =                    T / file conforms to FITS standard?                BITPIX  =                   16 / number of bits per data pixel                  NAXIS   =                    2 / number of data axes                            NAXIS1  =                 2250 / length of data axis   1                        NAXIS2  =                 2048 / length of data axis   2                        TRAPDOOR= 'open    '           /                                                SLITNAME= 'direct  '           /                                                SLITMASK=                    1 /                                                GRANAME = 'mirror  '           /                                                GRATING =                    1 /                                                GRANGLE =          13.47489071 /                                                REDFILT = 'R       '           /                                                REDFNUM =                    5 /                                                REDFOCUS=        2069.99633789 /                                                LAMPS   = '0,0,0,0,0,0'        /                                                TEMPDET =         -99.92433929 /                                                TV1FPOS =         330.00933838 /                                                OBSERVER= 'hillenbrand'        /                                                DATE    = '1999-06-21'         /                                                UT      = '11:20:37.41'        /                                                AIRMASS =           1.81941515 /                                                TARGNAME= 'rcra    '           /                                                RA      = '18:58:31.70'        /                                                DEC     = '-37:01:30.0'        /                                                EQUINOX =        1950.00000000 /                                                AZ      =         178.64086509 /                                                EL      =          33.26096275 /                                                HA      = '+23:53:43.10'       /                                                ST      = '18:55:35.68'        /                                                ROTMODE = 'position angle'     /                                                ROTPPOSN=         -89.27442058 /                                                ROTPOSN =         -89.99982501 /                                                TELFOCUS=           0.00239584 /                                                SECFOCUS=           0.00179353 /                                                TUBETEMP=           1.56304997 /                                                SIMULATE=                    F /                                                TELESCOP= 'Keck II '           /                                                PMFM    =                    0 /                                                PONAME  = 'LRIS    '           /                                                OBJECT  = 'rcra    '           /                                                FRAMENO =                  137 /                                                OBSNUM  =                  137 /                                                OUTFILE = 'lris    '           /                                                OUTDIR  = '/sdata214/lris12'   /                                                TTIME   =                    3 /                                                EXPOSURE=                    3 /                                                ELAPTIME=                    3 /                                                AUTOSHUT=                    T /                                                NUMAMPS =                    2 /                                                AMPLIST = '2,1,0,0 '           /                                                VOFFSET0=                  156 /                                                VOFFSET1=                  152 /                                                CCDGAIN =                    F /                                                WINDOW  = '1,0,0,2048,2048'    /                                                REDXFLIP=                    T /                                                IMTYPE  = 'TWOAMPTOP'          /                                                PREPIX  =                   21 /                                                PRELINE =                    0 /                                                POSTPIX =                   80 /                                                POSTLINE=                    0 /                                                ERASLINE=                    0 /                                                KEEPPREP=                    1 /                                                PREFLUSH=                    0 /                                                OVRFLUSH=                    0 /                                                BINNING = '1, 1    '           /                                                BSCALE  =           1.00000000 /                                                BZERO   =       32768.00000000 /                                                COMMENT = '* This image was generated by the Low Resolution Imaging        '    COMMENT = '* Spectrograph                                                  '    COMMENT = 'RUN-SPECIFIC COMMENTS FOLLOW                                    '    COMMENT = '----------------------------------------------------------------'    COMMENT = '                                                                '    END                                                                                                                                                                                                                                                                                                                                                                                                                                                                                                                                                                                                                                                                                                                                                                                                                                                                                                                                                                                                                                                                                                                                                                                                                                                                                                                                                                                                                                                                                                                                                                                                                                                                                                                                                                                                                                                                                                                                                                                                                                                                                                                                                                                                                                                                                                                                                                                                                                                                                                                                                                                                                                                                                                                                                                                                                                                                                                                                                                                             \n"
     ]
    }
   ],
   "source": [
    "index = 2\n",
    "path = directory + \"\\\\\" + file_array[index]\n",
    "hdul = fits.open(path);\n",
    "print(hdul[0].header)\n",
    "hdul.close();"
   ]
  },
  {
   "cell_type": "markdown",
   "metadata": {},
   "source": [
    "# Q1: Print out a log table in-line:\n",
    "For each file, the table should include: The file name, the UT time, the target RA and DEC, the target name, the object name, the airmass, the filter, and the exposure time.\n",
    "Make sure your table has a title on every column, including units when relevant.\n",
    "Note: Target name is added automatically to the fits header by the instrument, Object name is added manually by the observer. It's useful to look at both because they may contain slightly different information, and if they disagree for a given file you need to figure out why and which is correct (there are many reasons why one or the other may be incorrect)."
   ]
  },
  {
   "cell_type": "code",
   "execution_count": 5,
   "metadata": {},
   "outputs": [
    {
     "name": "stdout",
     "output_type": "stream",
     "text": [
      "It is True that each header has all of the information we need\n",
      "Table of relevant information from each header:\n",
      " [['18:58:31.70' '18:58:31.70' '18:58:31.70' '18:58:31.70' '18:42:45.00'\n",
      "  '18:42:45.00' '20:37:14.10' '20:36:50.00' '20:18:42.50' '20:18:42.50'\n",
      "  '20:18:42.50' '20:18:42.50' '21:41:57.60' '21:41:57.60' '21:41:57.60'\n",
      "  '21:41:57.60' '21:41:57.60' '21:41:57.60' '23:29:34.02' '04:29:24.00'\n",
      "  '04:29:24.00' '04:29:24.00' '04:29:24.00' '04:29:24.00' '04:29:24.00'\n",
      "  '04:29:24.00' '04:29:24.00' '04:29:24.00' '04:29:24.00' '04:29:24.00']\n",
      " ['-37:01:30.0' '-37:01:30.0' '-37:01:30.0' '-37:01:30.0' '+00:07:42.0'\n",
      "  '+00:07:42.0' '+42:12:12.0' '+42:26:58.0' '+41:12:20.0' '+41:12:20.0'\n",
      "  '+41:12:20.0' '+41:12:20.0' '+65:53:07.1' '+65:53:07.1' '+65:53:07.1'\n",
      "  '+65:53:07.1' '+65:53:07.1' '+65:53:07.1' '-23:55:53.8' '+48:00:00.0'\n",
      "  '+48:00:00.0' '+48:00:00.0' '+48:00:00.0' '+48:00:00.0' '+48:00:00.0'\n",
      "  '+48:00:00.0' '+48:00:00.0' '+48:00:00.0' '+48:00:00.0' '+48:00:00.0']\n",
      " ['11:18:38.38' '11:20:37.41' '11:28:46.28' '11:30:43.11' '11:59:19.21'\n",
      "  '12:01:45.06' '12:32:59.03' '12:39:26.08' '12:46:32.65' '12:48:03.26'\n",
      "  '12:51:31.41' '12:58:14.33' '13:00:33.73' '13:02:06.83' '13:04:04.73'\n",
      "  '13:15:34.93' '13:20:05.76' '13:21:42.60' '14:12:26.44' '15:06:14.08'\n",
      "  '15:07:53.03' '15:09:24.03' '15:10:54.05' '15:14:31.30' '15:16:07.90'\n",
      "  '15:17:37.85' '15:19:13.25' '15:20:49.83' '15:22:26.28' '15:24:04.98']\n",
      " ['rcra' 'rcra' 'rcra' 'rcra' '110 361' '110 361' 'W75S' 'W75N' 'bdp40'\n",
      "  'bdp40' 'bdp40' 'bdp40' 'ngc7129' 'ngc7129' 'ngc7129' 'ngc7129'\n",
      "  'ngc7129' 'ngc7129' 'grb981226' 'HORIZON STOW' 'HORIZON STOW'\n",
      "  'HORIZON STOW' 'HORIZON STOW' 'HORIZON STOW' 'HORIZON STOW'\n",
      "  'HORIZON STOW' 'HORIZON STOW' 'HORIZON STOW' 'HORIZON STOW'\n",
      "  'HORIZON STOW']\n",
      " ['rcra' 'rcra' 'rcra' 'rcra' 'sa110-361' 'sa110-361' 'W75S (for jmc)'\n",
      "  'W75N (for jmc)' 'bd+404124' 'bd+404124' 'bd+404124' 'bd+404124'\n",
      "  'ngc7129' 'ngc7129' 'ngc7129' 'ngc7129' 'ngc7129' 'ngc7129'\n",
      "  'grb981226 (for srk etal)' 'domeflat I' 'domeflat I' 'domeflat I'\n",
      "  'domeflat I' 'domeflat I' 'domeflat I' 'domeflat R' 'domeflat R'\n",
      "  'domeflat R' 'domeflat R' 'domeflat R']\n",
      " ['1.82004183' '1.81941515' '1.81880172' '1.8191194' '1.08972027'\n",
      "  '1.09245868' '1.08927472' '1.08833669' '1.07452605' '1.07458959'\n",
      "  '1.07486982' '1.0759376' '1.47732793' '1.47574977' '1.47380412'\n",
      "  '1.46369024' '1.46030405' '1.45917251' '1.55889272' '1.34462799'\n",
      "  '1.34462799' '1.34462799' '1.34462799' '1.34462799' '1.34462799'\n",
      "  '1.34462799' '1.34462799' '1.34462799' '1.34462799' '1.34462799']]\n"
     ]
    }
   ],
   "source": [
    "ut_time = [\"\"] * (len(file_array) - 2)\n",
    "ra = [\"\"] * (len(file_array) - 2)\n",
    "dec = [\"\"] * (len(file_array) - 2)\n",
    "airmass = [\"\"] * (len(file_array) - 2)\n",
    "object_name = [\"\"] * (len(file_array) - 2)\n",
    "target_name = [\"\"] * (len(file_array) - 2)\n",
    "\n",
    "for index in range(len(file_array)):\n",
    "    path = directory + \"\\\\\" + file_array[index]\n",
    "    if(index > 0 and index < len(file_array) - 1):\n",
    "            hdul = fits.open(path);\n",
    "            ra[index - 1] = hdul[0].header['RA']\n",
    "            dec[index - 1] = hdul[0].header['DEC']\n",
    "            ut_time[index - 1] = hdul[0].header['UT']   \n",
    "            target_name[index - 1] = hdul[0].header['TARGNAME']\n",
    "            object_name[index - 1] = hdul[0].header['Object']\n",
    "            airmass[index - 1] = hdul[0].header['AIRMASS']\n",
    "            hdul.close();\n",
    "table = np.array((ra, dec, ut_time, target_name, object_name, airmass))\n",
    "length_test = [True] * len(table)\n",
    "for index in range(len(table)):\n",
    "    length_test[index] = (len(file_array) - 2 == (len(table[index]))) \n",
    "    #two of the files are not fits files\n",
    "print(\"It is\",  all(length_test), \n",
    "      \"that each header has all of the information we need\")\n",
    "print(\"Table of relevant information from each header:\\n\", table)"
   ]
  },
  {
   "cell_type": "markdown",
   "metadata": {},
   "source": [
    "The files in this set include flat fields and science fields. Display at least one of the science fields to orient yourself to what raw data looks like.\n",
    "Note: When reading in the fits data, always convert the datatype to float, e.g.: im = np.array(im,dtype='float'). Otherwise your math on the images later in the notebook will produce strange results."
   ]
  },
  {
   "cell_type": "code",
   "execution_count": 6,
   "metadata": {},
   "outputs": [
    {
     "name": "stdout",
     "output_type": "stream",
     "text": [
      "Object observed: rcra\n",
      "The data is of size (2048, 2250)\n",
      "Top left corner of the data table:\n",
      " [[1003.    0.  999. 1001. 1000. 1002. 1000.  998. 1004. 1000. 1004.]\n",
      " [1003.    0.  995.  995. 1003. 1005. 1004.  998.  999. 1005. 1006.]\n",
      " [1003.    0.  993.  994. 1000. 1001. 1004.  997. 1001. 1003. 1009.]\n",
      " [1003.    0.  997. 1000. 1001.  998. 1002. 1004. 1003. 1002. 1001.]\n",
      " [1004.    0.  996.  997. 1001. 1003. 1003.  998. 1005. 1000. 1006.]\n",
      " [1001.    0. 1000.  993. 1006.  999.  997. 1004.  999. 1007. 1004.]\n",
      " [1001.    0.  996. 1000.  998. 1002. 1000. 1001. 1000. 1006. 1000.]\n",
      " [1010.    0.  998. 1003. 1005. 1001.  997. 1002. 1002. 1001. 1002.]\n",
      " [1004.    0.  991.  997.  996. 1002. 1000. 1007. 1001. 1001. 1000.]\n",
      " [ 998.    0.  996.  995. 1000.  999.  998. 1008. 1005. 1006. 1006.]\n",
      " [1007.    0.  998.  999. 1003.  997.  996. 1007.  998. 1003. 1008.]]\n",
      "Bottom right corner of the data table:\n",
      " [[1098. 1097. 1099. 1095. 1095. 1094. 1100. 1097. 1100. 1095.]\n",
      " [1098. 1096. 1095. 1094. 1096. 1095. 1094. 1093. 1097. 1101.]\n",
      " [1096. 1097. 1101. 1104. 1097. 1094. 1100. 1100. 1099. 1095.]\n",
      " [1099. 1094. 1095. 1096. 1095. 1099. 1097. 1097. 1096. 1095.]\n",
      " [1096. 1095. 1096. 1095. 1102. 1096. 1094. 1094. 1096. 1095.]\n",
      " [1098. 1097. 1097. 1102. 1099. 1095. 1096. 1098. 1095. 1099.]\n",
      " [1097. 1096. 1098. 1094. 1094. 1095. 1097. 1096. 1100. 1100.]\n",
      " [1096. 1097. 1096. 1097. 1098. 1092. 1095. 1101. 1097. 1096.]\n",
      " [1097. 1098. 1091. 1097. 1093. 1093. 1099. 1098. 1097. 1097.]\n",
      " [1098. 1097. 1098. 1097. 1091. 1096. 1095. 1097. 1095. 1096.]]\n"
     ]
    }
   ],
   "source": [
    "index = 2\n",
    "path = directory + \"\\\\\" + file_array[index]\n",
    "hdul = fits.open(path);\n",
    "print(\"Object observed:\", hdul[0].header['Object'])\n",
    "data = np.array(hdul[0].data, dtype='float')\n",
    "shape = data.shape\n",
    "shape_check = [True] * len(shape)\n",
    "for dim in range(len(shape)):\n",
    "    shape_check = (shape[dim] > 12)\n",
    "print(\"The data is of size\", shape)\n",
    "print(\"Top left corner of the data table:\\n\", \n",
    "      data[0:11, 0:11])\n",
    "print(\"Bottom right corner of the data table:\\n\", \n",
    "      data[shape[0] - 11 : shape[0] - 1, shape[1] - 11:shape[1] - 1])\n",
    "hdul.close();"
   ]
  },
  {
   "cell_type": "code",
   "execution_count": 7,
   "metadata": {},
   "outputs": [
    {
     "data": {
      "text/plain": [
       "['_EXCLUDE',\n",
       " '_MASK',\n",
       " '__class__',\n",
       " '__delattr__',\n",
       " '__dict__',\n",
       " '__dir__',\n",
       " '__doc__',\n",
       " '__eq__',\n",
       " '__format__',\n",
       " '__ge__',\n",
       " '__getattribute__',\n",
       " '__gt__',\n",
       " '__hash__',\n",
       " '__init__',\n",
       " '__init_subclass__',\n",
       " '__le__',\n",
       " '__lt__',\n",
       " '__module__',\n",
       " '__ne__',\n",
       " '__new__',\n",
       " '__reduce__',\n",
       " '__reduce_ex__',\n",
       " '__repr__',\n",
       " '__setattr__',\n",
       " '__sizeof__',\n",
       " '__str__',\n",
       " '__subclasshook__',\n",
       " '__weakref__',\n",
       " '_axes',\n",
       " '_bitpix',\n",
       " '_blank',\n",
       " '_bscale',\n",
       " '_buffer',\n",
       " '_bzero',\n",
       " '_calculate_checksum',\n",
       " '_calculate_datasum',\n",
       " '_char_encode',\n",
       " '_checksum',\n",
       " '_checksum_valid',\n",
       " '_close',\n",
       " '_compute_checksum',\n",
       " '_compute_hdu_checksum',\n",
       " '_convert_pseudo_unsigned',\n",
       " '_data_loaded',\n",
       " '_data_needs_rescale',\n",
       " '_data_offset',\n",
       " '_data_replaced',\n",
       " '_data_size',\n",
       " '_datasum',\n",
       " '_datasum_valid',\n",
       " '_default_name',\n",
       " '_do_not_scale_image_data',\n",
       " '_dtype_for_bitpix',\n",
       " '_encode_byte',\n",
       " '_file',\n",
       " '_from_data',\n",
       " '_gcount',\n",
       " '_get_raw_data',\n",
       " '_get_scaled_image_data',\n",
       " '_get_timestamp',\n",
       " '_has_data',\n",
       " '_hdu_registry',\n",
       " '_header',\n",
       " '_header_offset',\n",
       " '_header_str',\n",
       " '_modified',\n",
       " '_new',\n",
       " '_orig_bitpix',\n",
       " '_orig_blank',\n",
       " '_orig_bscale',\n",
       " '_orig_bzero',\n",
       " '_output_checksum',\n",
       " '_padding_byte',\n",
       " '_pcount',\n",
       " '_postwriteto',\n",
       " '_prewriteto',\n",
       " '_readfrom_internal',\n",
       " '_scale_back',\n",
       " '_scale_internal',\n",
       " '_standard',\n",
       " '_summary',\n",
       " '_uint',\n",
       " '_update_checksum',\n",
       " '_update_header_scale_info',\n",
       " '_update_uint_scale_keywords',\n",
       " '_verify',\n",
       " '_verify_blank',\n",
       " '_verify_checksum_datasum',\n",
       " '_writedata',\n",
       " '_writedata_direct_copy',\n",
       " '_writedata_internal',\n",
       " '_writeheader',\n",
       " '_writeto',\n",
       " '_writeto_internal',\n",
       " 'add_checksum',\n",
       " 'add_datasum',\n",
       " 'copy',\n",
       " 'data',\n",
       " 'filebytes',\n",
       " 'fileinfo',\n",
       " 'fromstring',\n",
       " 'header',\n",
       " 'is_image',\n",
       " 'level',\n",
       " 'match_header',\n",
       " 'name',\n",
       " 'readfrom',\n",
       " 'register_hdu',\n",
       " 'req_cards',\n",
       " 'run_option',\n",
       " 'scale',\n",
       " 'section',\n",
       " 'shape',\n",
       " 'size',\n",
       " 'standard_keyword_comments',\n",
       " 'unregister_hdu',\n",
       " 'update_header',\n",
       " 'ver',\n",
       " 'verify',\n",
       " 'verify_checksum',\n",
       " 'verify_datasum',\n",
       " 'writeto']"
      ]
     },
     "execution_count": 7,
     "metadata": {},
     "output_type": "execute_result"
    }
   ],
   "source": [
    "dir(hdul[0])"
   ]
  },
  {
   "cell_type": "markdown",
   "metadata": {},
   "source": [
    "# Part II: Basic Calibrations: Bias, Dark, Flat"
   ]
  },
  {
   "cell_type": "markdown",
   "metadata": {},
   "source": [
    "Display one of the flat fields. Title the figure with \"FLAT\" and the filter name. Make sure you understand the various aspects of the image and why it looks the way it does."
   ]
  },
  {
   "cell_type": "code",
   "execution_count": 10,
   "metadata": {},
   "outputs": [
    {
     "name": "stdout",
     "output_type": "stream",
     "text": [
      "C:\\Users\\engin\\Documents\\GitHub\\Ay_Ge_107\\data\\lris0182.fits\n"
     ]
    },
    {
     "data": {
      "image/png": "[encoded data removed]",
      "text/plain": [
       "<Figure size 432x288 with 1 Axes>"
      ]
     },
     "metadata": {
      "needs_background": "light"
     },
     "output_type": "display_data"
    }
   ],
   "source": [
    "index = len(file_array) - 2\n",
    "path = directory + \"\\\\\" + file_array[index]\n",
    "print(path)\n",
    "hdul = fits.open(path);\n",
    "data = np.array(hdul[0].data, dtype='float')\n",
    "shape = np.array((data.shape))\n",
    "shape_check = [True] * len(shape)\n",
    "for dim in range(len(shape)):\n",
    "    shape_check = (shape[dim] > 12)\n",
    "plt.imshow(data, origin = \"lower\")\n",
    "plt.title(\"FLAT \" + hdul[0].header['REDFILT'])\n",
    "hdul.close();"
   ]
  },
  {
   "cell_type": "markdown",
   "metadata": {},
   "source": [
    "Identify the column number that marks the divide between the two halves of the CCD (with different amplifiers)"
   ]
  },
  {
   "cell_type": "code",
   "execution_count": 11,
   "metadata": {},
   "outputs": [
    {
     "name": "stdout",
     "output_type": "stream",
     "text": [
      "The two halves of the CCD with different amplifiers are separated by column 1065\n"
     ]
    }
   ],
   "source": [
    "left = 500\n",
    "right = 1500\n",
    "diff = np.arange(left, right)\n",
    "for col in range(left, right):\n",
    "    diff[col - right] = np.average(data[:, col])\n",
    "    diff[col - right] -= np.average(data[:, col + 1])\n",
    "dividing_column = np.argmax(diff) + left\n",
    "print(\"The two halves of the CCD with different amplifiers are separated by column\", dividing_column)"
   ]
  },
  {
   "cell_type": "markdown",
   "metadata": {},
   "source": [
    "Identify the columns and rows that contain the two overscan regions for each detector half. This is most easily done by displaying a median average horizontal profile averaged over the entire frame. The overscan regions are the two stripes down the right side between roughly columns 2100 and 2250. The left overscan region has the bias+dark level for the left side of the detector. The right overscan region has the bias+dark level for the left side of the detector."
   ]
  },
  {
   "cell_type": "code",
   "execution_count": 64,
   "metadata": {
    "scrolled": true
   },
   "outputs": [
    {
     "data": {
      "text/plain": [
       "Text(0.5, 1.0, 'FLAT R')"
      ]
     },
     "execution_count": 64,
     "metadata": {},
     "output_type": "execute_result"
    },
    {
     "data": {
      "image/png": "[encoded data removed]",
      "text/plain": [
       "<Figure size 432x288 with 1 Axes>"
      ]
     },
     "metadata": {
      "needs_background": "light"
     },
     "output_type": "display_data"
    }
   ],
   "source": [
    "avg_horizontal = np.empty(shape[1])\n",
    "new_data = np.empty(shape)\n",
    "#average all the columns into a single horizontal profile\n",
    "for col in range(shape[1]):\n",
    "    avg_horizontal[col] = np.average(data[:, col])\n",
    "    \n",
    "new_data = np.array(([avg_horizontal] * shape[0]))\n",
    "\n",
    "plt.imshow(new_data, origin = \"lower\")\n",
    "plt.title(\"FLAT \" + hdul[0].header['REDFILT'])"
   ]
  },
  {
   "cell_type": "code",
   "execution_count": 65,
   "metadata": {},
   "outputs": [
    {
     "data": {
      "text/plain": [
       "Text(0.5, 1.0, 'FLAT R')"
      ]
     },
     "execution_count": 65,
     "metadata": {},
     "output_type": "execute_result"
    },
    {
     "data": {
      "image/png": "[encoded data removed]",
      "text/plain": [
       "<Figure size 432x288 with 1 Axes>"
      ]
     },
     "metadata": {
      "needs_background": "light"
     },
     "output_type": "display_data"
    }
   ],
   "source": [
    "newer_data = data - new_data\n",
    "plt.imshow(newer_data, origin = \"lower\")\n",
    "plt.title(\"FLAT \" + hdul[0].header['REDFILT'])"
   ]
  },
  {
   "cell_type": "code",
   "execution_count": 77,
   "metadata": {},
   "outputs": [
    {
     "data": {
      "text/plain": [
       "Text(0.5, 1.0, 'FLAT R')"
      ]
     },
     "execution_count": 77,
     "metadata": {},
     "output_type": "execute_result"
    },
    {
     "data": {
      "image/png": "[encoded data removed]",
      "text/plain": [
       "<Figure size 432x288 with 1 Axes>"
      ]
     },
     "metadata": {
      "needs_background": "light"
     },
     "output_type": "display_data"
    }
   ],
   "source": [
    "avg_vert = np.empty(shape[0])\n",
    "new_data = np.empty(shape)\n",
    "#average all the rows into a single vertical profile\n",
    "for row in range(shape[0]):\n",
    "    avg_vert[row] = np.average(data[row, :])\n",
    "    \n",
    "#median_row = np.argsort(avg_vert)[len(avg_vert)//2]\n",
    "#median_value = avg_vert[median_row]\n",
    "new_data = np.array(([avg_vert] * shape[1]))\n",
    "new_data = np.transpose(new_data)\n",
    "new_data = np.transpose(new_data)\n",
    "new_data = np.transpose(new_data)\n",
    "newer_data = data - new_data\n",
    "plt.imshow(newer_data, origin = \"lower\")\n",
    "plt.title(\"FLAT \" + hdul[0].header['REDFILT'])"
   ]
  },
  {
   "cell_type": "code",
   "execution_count": null,
   "metadata": {},
   "outputs": [],
   "source": []
  },
  {
   "cell_type": "code",
   "execution_count": null,
   "metadata": {},
   "outputs": [],
   "source": []
  },
  {
   "cell_type": "markdown",
   "metadata": {},
   "source": [
    "# Q2a: Write down the column number that divides the two detector halves, and the column numbers containing the left and right overscan region."
   ]
  },
  {
   "cell_type": "markdown",
   "metadata": {},
   "source": [
    "Now you're going to create a clean, normalized  \"master flat field\" for each filter. To do this, for each flat: (1) subtract the bias+dark level then crop out the un-illuminated region of the detector, (2) median-average all flat frames within each filter, and\n",
    "(3) normalize the master flat so that its median value is 1. Note 1: make sure that all the flat fields you're using to make the master have the same exposure time. Note 2: Make sure you have viewed every image you're using and that it looks as expected. For a flat field, \"as expected\" means that all flats using a given filter have roughly the same counts, those counts are much higher than the bias level, and there are no astronomical sources in the field. Log files and fits headers have been known to be incorrect."
   ]
  },
  {
   "cell_type": "code",
   "execution_count": null,
   "metadata": {},
   "outputs": [],
   "source": []
  },
  {
   "cell_type": "code",
   "execution_count": null,
   "metadata": {},
   "outputs": [],
   "source": []
  },
  {
   "cell_type": "code",
   "execution_count": null,
   "metadata": {},
   "outputs": [],
   "source": []
  },
  {
   "cell_type": "code",
   "execution_count": null,
   "metadata": {},
   "outputs": [],
   "source": []
  },
  {
   "cell_type": "code",
   "execution_count": null,
   "metadata": {},
   "outputs": [],
   "source": []
  },
  {
   "cell_type": "code",
   "execution_count": null,
   "metadata": {},
   "outputs": [],
   "source": []
  },
  {
   "cell_type": "markdown",
   "metadata": {},
   "source": [
    "# Q2b: Display your final normalized master flat fields with colorbars. Title each plot with \"Master Flat\" plus the filter name"
   ]
  },
  {
   "cell_type": "code",
   "execution_count": null,
   "metadata": {},
   "outputs": [],
   "source": []
  },
  {
   "cell_type": "markdown",
   "metadata": {},
   "source": [
    "# Part III: Photometric Calibration"
   ]
  },
  {
   "cell_type": "markdown",
   "metadata": {},
   "source": [
    "For the flux calibration of the images, you will be using standard star SA 110 361.\n",
    "Go to https://www.eso.org/sci/observing/tools/standards/Landolt.html, and find 110 361, display the gif.\n",
    "Use the chart to identify which star is 361.\n",
    "Pay attention to the scale bar to orient relative scales. You will want to know the size of your image in arcminutes"
   ]
  },
  {
   "cell_type": "markdown",
   "metadata": {},
   "source": [
    "# Q3a: Using the link above, write down the magnitudes of star 110 361 in each of your observing filters."
   ]
  },
  {
   "cell_type": "code",
   "execution_count": null,
   "metadata": {},
   "outputs": [],
   "source": []
  },
  {
   "cell_type": "markdown",
   "metadata": {},
   "source": [
    "# Q3b: Express these magnitudes in flux densities in units of W/m^2/micron. Use zero-magnitude flux densities of: R: 1.738e-8 W/m2/um, I: 8.318e-9 W/m2/um"
   ]
  },
  {
   "cell_type": "code",
   "execution_count": null,
   "metadata": {},
   "outputs": [],
   "source": []
  },
  {
   "cell_type": "markdown",
   "metadata": {},
   "source": [
    "Next, you will need to use aperture photometry to determine the brightness of the star in both filters in units of detector counts per second. This will enable you to derive a conversion factor between counts/second and physical flux density that will be applied to your scientific targets."
   ]
  },
  {
   "cell_type": "markdown",
   "metadata": {},
   "source": [
    "Starting with one filter, do the bias and flat correction on the standard star field and display the corrected image"
   ]
  },
  {
   "cell_type": "code",
   "execution_count": null,
   "metadata": {},
   "outputs": [],
   "source": []
  },
  {
   "cell_type": "markdown",
   "metadata": {},
   "source": [
    "# Q3c. Write down the pixel coordinates of the center of the standard star"
   ]
  },
  {
   "cell_type": "code",
   "execution_count": null,
   "metadata": {},
   "outputs": [],
   "source": []
  },
  {
   "cell_type": "code",
   "execution_count": null,
   "metadata": {},
   "outputs": [],
   "source": []
  },
  {
   "cell_type": "markdown",
   "metadata": {},
   "source": [
    "Now, perform aperture photometry on the standard star to determine its brightness in counts/second. When choosing your three radii for aperture photometry, first explore the outer two radii, making sure the chosen background annulus does not contain any sources nor significant flux from the star. Then, for every aperture photometry operation in this notebook, you will need to include a plot of counts/sec vs. inner radius (in pixels), to show where the curve levels off and demonstrate the counts/sec value you've chosen. Note: you will need to divide by exposure time to get to \"per second\"."
   ]
  },
  {
   "cell_type": "markdown",
   "metadata": {},
   "source": [
    "You may find the function below useful for implementing the aperture photometry: The function takes an image and an (x,y) coordinate pair, and outputs a new image where the value of every pixel is the distance in pixels between that pixel and the input coordinate."
   ]
  },
  {
   "cell_type": "code",
   "execution_count": 5,
   "metadata": {},
   "outputs": [],
   "source": [
    "def dist(xcoord,ycoord,image):\n",
    "    xx = np.arange((image.shape[0]))\n",
    "    xim = np.repeat(xx,image.shape[1]).reshape(image.shape) # xcoordinate of each pixel\n",
    "    yy = np.arange((image.shape[1]))\n",
    "    yim = np.tile(yy,image.shape[0]).reshape(image.shape) #ycoordinate of each pixel\n",
    "    dist = np.sqrt((xim-xcoord)**2.+(yim-ycoord)**2.)\n",
    "    return(dist)"
   ]
  },
  {
   "cell_type": "code",
   "execution_count": null,
   "metadata": {},
   "outputs": [],
   "source": []
  },
  {
   "cell_type": "code",
   "execution_count": null,
   "metadata": {},
   "outputs": [],
   "source": []
  },
  {
   "cell_type": "code",
   "execution_count": null,
   "metadata": {},
   "outputs": [],
   "source": []
  },
  {
   "cell_type": "markdown",
   "metadata": {},
   "source": [
    "Repeat for second filter. Note that the standard star may not be at the exact same location between filters."
   ]
  },
  {
   "cell_type": "code",
   "execution_count": null,
   "metadata": {},
   "outputs": [],
   "source": []
  },
  {
   "cell_type": "code",
   "execution_count": null,
   "metadata": {},
   "outputs": [],
   "source": []
  },
  {
   "cell_type": "code",
   "execution_count": null,
   "metadata": {},
   "outputs": [],
   "source": []
  },
  {
   "cell_type": "code",
   "execution_count": null,
   "metadata": {},
   "outputs": [],
   "source": []
  },
  {
   "cell_type": "code",
   "execution_count": null,
   "metadata": {},
   "outputs": [],
   "source": []
  },
  {
   "cell_type": "markdown",
   "metadata": {},
   "source": [
    "# Q3d: Display a plot of Counts/sec of the star vs. Inner radius in pixels, for each filter. Label each with the filter name. Write down the counts/second of the star in each filter (labeled by filter), and the conversion factor in units of (W/m^2/micron)/(counts/sec) for each filter. These conversion factors are the final step of the flux calibration."
   ]
  },
  {
   "cell_type": "code",
   "execution_count": null,
   "metadata": {},
   "outputs": [],
   "source": []
  },
  {
   "cell_type": "code",
   "execution_count": null,
   "metadata": {},
   "outputs": [],
   "source": []
  },
  {
   "cell_type": "markdown",
   "metadata": {},
   "source": [
    "# Part IV. Scientific image analysis"
   ]
  },
  {
   "cell_type": "markdown",
   "metadata": {},
   "source": [
    "We will be using the field NGC 7129. Start by displaying a couple of the images to see how they differ. Note that there are images with different exposure times. You will need to make sure the stars you are using in this section are not saturated. Using the shorter exposure time images will allow you to measure brighter stars, while the longer exposure times will allow you to measure the fainter stars."
   ]
  },
  {
   "cell_type": "markdown",
   "metadata": {},
   "source": [
    "To orient yourself to the field, find a picture of star-forming region NGC 7219 online. e.g. https://noirlab.edu/public/images/noao-ngc7129/\n",
    "and orient yourself to which part of the nebula your data is of.\n",
    "Note: you may want to look at the header keywords:\n",
    "ROTMODE: position angle means rotation angle of the image east of north.\n",
    "ROTPPOSN is the value of the rotation angle."
   ]
  },
  {
   "cell_type": "code",
   "execution_count": null,
   "metadata": {},
   "outputs": [],
   "source": []
  },
  {
   "cell_type": "markdown",
   "metadata": {},
   "source": [
    "# Q4a: Choose 5 stars. For each star you've chosen, display the plots of (Counts/sec) vs. Inner radius in pixels, and write down its total brightness in counts/sec. Repeat for each filter."
   ]
  },
  {
   "cell_type": "code",
   "execution_count": null,
   "metadata": {},
   "outputs": [],
   "source": []
  },
  {
   "cell_type": "code",
   "execution_count": null,
   "metadata": {},
   "outputs": [],
   "source": []
  },
  {
   "cell_type": "code",
   "execution_count": null,
   "metadata": {},
   "outputs": [],
   "source": []
  },
  {
   "cell_type": "code",
   "execution_count": null,
   "metadata": {},
   "outputs": [],
   "source": []
  },
  {
   "cell_type": "code",
   "execution_count": null,
   "metadata": {},
   "outputs": [],
   "source": []
  },
  {
   "cell_type": "code",
   "execution_count": null,
   "metadata": {},
   "outputs": [],
   "source": []
  },
  {
   "cell_type": "code",
   "execution_count": null,
   "metadata": {},
   "outputs": [],
   "source": []
  },
  {
   "cell_type": "code",
   "execution_count": null,
   "metadata": {},
   "outputs": [],
   "source": []
  },
  {
   "cell_type": "code",
   "execution_count": null,
   "metadata": {},
   "outputs": [],
   "source": []
  },
  {
   "cell_type": "code",
   "execution_count": null,
   "metadata": {},
   "outputs": [],
   "source": []
  },
  {
   "cell_type": "code",
   "execution_count": null,
   "metadata": {},
   "outputs": [],
   "source": []
  },
  {
   "cell_type": "code",
   "execution_count": null,
   "metadata": {},
   "outputs": [],
   "source": []
  },
  {
   "cell_type": "code",
   "execution_count": null,
   "metadata": {},
   "outputs": [],
   "source": []
  },
  {
   "cell_type": "code",
   "execution_count": null,
   "metadata": {},
   "outputs": [],
   "source": []
  },
  {
   "cell_type": "code",
   "execution_count": null,
   "metadata": {},
   "outputs": [],
   "source": []
  },
  {
   "cell_type": "code",
   "execution_count": null,
   "metadata": {},
   "outputs": [],
   "source": []
  },
  {
   "cell_type": "code",
   "execution_count": null,
   "metadata": {},
   "outputs": [],
   "source": []
  },
  {
   "cell_type": "code",
   "execution_count": null,
   "metadata": {},
   "outputs": [],
   "source": []
  },
  {
   "cell_type": "code",
   "execution_count": null,
   "metadata": {},
   "outputs": [],
   "source": []
  },
  {
   "cell_type": "code",
   "execution_count": null,
   "metadata": {},
   "outputs": [],
   "source": []
  },
  {
   "cell_type": "code",
   "execution_count": null,
   "metadata": {},
   "outputs": [],
   "source": []
  },
  {
   "cell_type": "code",
   "execution_count": null,
   "metadata": {},
   "outputs": [],
   "source": []
  },
  {
   "cell_type": "markdown",
   "metadata": {},
   "source": [
    "# Q4b: Create a plot containing the spectrum of each star. Ror each of your 5 stars, there should be a point for each filter with the x-coordinate the filter wavelength and the y-coordinate the flux density, converted from counts/sec using your photometry conversion factor. Each star should be labeled, the plot should have a legend, and x and y axes should have units and labels."
   ]
  },
  {
   "cell_type": "code",
   "execution_count": null,
   "metadata": {},
   "outputs": [],
   "source": []
  },
  {
   "cell_type": "code",
   "execution_count": null,
   "metadata": {},
   "outputs": [],
   "source": []
  },
  {
   "cell_type": "code",
   "execution_count": null,
   "metadata": {},
   "outputs": [],
   "source": []
  },
  {
   "cell_type": "markdown",
   "metadata": {},
   "source": [
    "# Q4c: Create a color-magnitude diagram of your cluster stars, with color (i.e. difference in magnitudes between the two filters) on the x-axis, and the magnitude in one of the filters on the y-axis. Based on this, can you make any guesses on which of your chosen stars belong to the cluster?"
   ]
  },
  {
   "cell_type": "code",
   "execution_count": null,
   "metadata": {},
   "outputs": [],
   "source": []
  },
  {
   "cell_type": "code",
   "execution_count": null,
   "metadata": {},
   "outputs": [],
   "source": []
  },
  {
   "cell_type": "markdown",
   "metadata": {},
   "source": [
    "These data are published in Dahm and Hillenbrand (2015), you can find the full color-magnitude diagram including many more sources than your analysis in Figure 3 of this paper: https://iopscience.iop.org/article/10.1088/0004-6256/149/6/200/pdf "
   ]
  },
  {
   "cell_type": "code",
   "execution_count": null,
   "metadata": {},
   "outputs": [],
   "source": []
  }
 ],
 "metadata": {
  "kernelspec": {
   "display_name": "Python 3",
   "language": "python",
   "name": "python3"
  },
  "language_info": {
   "codemirror_mode": {
    "name": "ipython",
    "version": 3
   },
   "file_extension": ".py",
   "mimetype": "text/x-python",
   "name": "python",
   "nbconvert_exporter": "python",
   "pygments_lexer": "ipython3",
   "version": "3.8.3"
  }
 },
 "nbformat": 4,
 "nbformat_minor": 2
}
