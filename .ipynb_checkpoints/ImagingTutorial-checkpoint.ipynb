{
 "cells": [
  {
   "cell_type": "markdown",
   "metadata": {},
   "source": [
    "Import the packages you need. \n",
    "The notebook only requires astropy.io.fits, but subprocess and copy are useful. Please do not use extra packages without checking with the instructors."
   ]
  },
  {
   "cell_type": "code",
   "execution_count": 7,
   "metadata": {},
   "outputs": [
    {
     "name": "stdout",
     "output_type": "stream",
     "text": [
      "Populating the interactive namespace from numpy and matplotlib\n"
     ]
    },
    {
     "name": "stderr",
     "output_type": "stream",
     "text": [
      "C:\\Users\\engin\\anaconda3\\lib\\site-packages\\IPython\\core\\magics\\pylab.py:159: UserWarning: pylab import has clobbered these variables: ['copy']\n",
      "`%matplotlib` prevents importing * from pylab and numpy\n",
      "  warn(\"pylab import has clobbered these variables: %s\"  % clobbered +\n"
     ]
    }
   ],
   "source": [
    "%pylab inline\n",
    "from astropy.io import fits\n",
    "import subprocess\n",
    "import copy"
   ]
  },
  {
   "cell_type": "markdown",
   "metadata": {},
   "source": [
    "Please follow all tutorial instructions for displaying text and images. The outputs that will be graded are those labeled with a Q. For the graded boxes, if an image is asked for make sure it is labeled. If text is asked for, clearly label it and include units, following the example below:"
   ]
  },
  {
   "cell_type": "code",
   "execution_count": 9,
   "metadata": {},
   "outputs": [
    {
     "name": "stdout",
     "output_type": "stream",
     "text": [
      "Vmag of standard star: 12.43 magnitudes\n"
     ]
    }
   ],
   "source": [
    "# example, if Question is \"write the V magnitude of the standard star\" your output might look like the following\n",
    "Vmag=12.43\n",
    "print('Vmag of standard star:',Vmag,'magnitudes')"
   ]
  },
  {
   "cell_type": "markdown",
   "metadata": {},
   "source": [
    "Note on displaying images: It is straight-forward to display images with matplotlib using plt.imshow(imagename). A few keywords you will find useful are \"vmax\" and \"vmin\" which set the image scaling (max and min value). Please also always use the keyword origin='lower', which sets pixel (0,0) in the lower left corner. Example: plt.imshow(imagename,vmax=8000,origin='lower')"
   ]
  },
  {
   "cell_type": "markdown",
   "metadata": {},
   "source": [
    "Display the list of available data files.\n",
    "data_dir is the directory containing the fits files."
   ]
  },
  {
   "cell_type": "code",
   "execution_count": 20,
   "metadata": {},
   "outputs": [
    {
     "name": "stdout",
     "output_type": "stream",
     "text": [
      "['data', 'lris0136.fits', 'lris0137.fits', 'lris0139.fits', 'lris0140.fits', 'lris0147.fits', 'lris0148.fits', 'lris0151.fits', 'lris0152.fits', 'lris0153.fits', 'lris0154.fits', 'lris0155.fits', 'lris0156.fits', 'lris0157.fits', 'lris0158.fits', 'lris0159.fits', 'lris0160.fits', 'lris0161.fits', 'lris0162.fits', 'lris0167.fits', 'lris0172.fits', 'lris0173.fits', 'lris0174.fits', 'lris0175.fits', 'lris0176.fits', 'lris0177.fits', 'lris0178.fits', 'lris0179.fits', 'lris0180.fits', 'lris0181.fits', 'lris0182.fits', '__MACOSX']\n"
     ]
    }
   ],
   "source": [
    "import os\n",
    "directory = os.getcwd() + \"\\\\data\"\n",
    "os.listdir(path = directory)\n",
    "file_array = os.listdir(path = directory) #the first and last entries aren't fits files\n",
    "print(file_array)"
   ]
  },
  {
   "cell_type": "markdown",
   "metadata": {},
   "source": [
    "# Part I: Orienting yourself to the dataset."
   ]
  },
  {
   "cell_type": "markdown",
   "metadata": {},
   "source": [
    "Explore the fits header keywords, display the header with keywords and their values, and think about what they all represent.\n",
    "For working with fits files: https://docs.astropy.org/en/stable/io/fits/index.html"
   ]
  },
  {
   "cell_type": "code",
   "execution_count": 22,
   "metadata": {},
   "outputs": [
    {
     "name": "stdout",
     "output_type": "stream",
     "text": [
      "C:\\Users\\engin\\Documents\\GitHub\\Ay_Ge_107\\data\\lris0136.fits\n",
      "Filename: C:\\Users\\engin\\Documents\\GitHub\\Ay_Ge_107\\data\\lris0136.fits\n",
      "No.    Name      Ver    Type      Cards   Dimensions   Format\n",
      "  0  PRIMARY       1 PrimaryHDU      72   (2250, 2048)   int16 (rescales to uint16)   \n",
      "None\n",
      "C:\\Users\\engin\\Documents\\GitHub\\Ay_Ge_107\\data\\lris0137.fits\n",
      "Filename: C:\\Users\\engin\\Documents\\GitHub\\Ay_Ge_107\\data\\lris0137.fits\n",
      "No.    Name      Ver    Type      Cards   Dimensions   Format\n",
      "  0  PRIMARY       1 PrimaryHDU      72   (2250, 2048)   int16 (rescales to uint16)   \n",
      "None\n",
      "C:\\Users\\engin\\Documents\\GitHub\\Ay_Ge_107\\data\\lris0139.fits\n",
      "Filename: C:\\Users\\engin\\Documents\\GitHub\\Ay_Ge_107\\data\\lris0139.fits\n",
      "No.    Name      Ver    Type      Cards   Dimensions   Format\n",
      "  0  PRIMARY       1 PrimaryHDU      72   (2250, 2048)   int16 (rescales to uint16)   \n",
      "None\n",
      "C:\\Users\\engin\\Documents\\GitHub\\Ay_Ge_107\\data\\lris0140.fits\n",
      "Filename: C:\\Users\\engin\\Documents\\GitHub\\Ay_Ge_107\\data\\lris0140.fits\n",
      "No.    Name      Ver    Type      Cards   Dimensions   Format\n",
      "  0  PRIMARY       1 PrimaryHDU      72   (2250, 2048)   int16 (rescales to uint16)   \n",
      "None\n",
      "C:\\Users\\engin\\Documents\\GitHub\\Ay_Ge_107\\data\\lris0147.fits\n",
      "Filename: C:\\Users\\engin\\Documents\\GitHub\\Ay_Ge_107\\data\\lris0147.fits\n",
      "No.    Name      Ver    Type      Cards   Dimensions   Format\n",
      "  0  PRIMARY       1 PrimaryHDU      72   (2250, 2048)   int16 (rescales to uint16)   \n",
      "None\n",
      "C:\\Users\\engin\\Documents\\GitHub\\Ay_Ge_107\\data\\lris0148.fits\n",
      "Filename: C:\\Users\\engin\\Documents\\GitHub\\Ay_Ge_107\\data\\lris0148.fits\n",
      "No.    Name      Ver    Type      Cards   Dimensions   Format\n",
      "  0  PRIMARY       1 PrimaryHDU      72   (2250, 2048)   int16 (rescales to uint16)   \n",
      "None\n",
      "C:\\Users\\engin\\Documents\\GitHub\\Ay_Ge_107\\data\\lris0151.fits\n",
      "Filename: C:\\Users\\engin\\Documents\\GitHub\\Ay_Ge_107\\data\\lris0151.fits\n",
      "No.    Name      Ver    Type      Cards   Dimensions   Format\n",
      "  0  PRIMARY       1 PrimaryHDU      72   (2250, 2048)   int16 (rescales to uint16)   \n",
      "None\n",
      "C:\\Users\\engin\\Documents\\GitHub\\Ay_Ge_107\\data\\lris0152.fits\n",
      "Filename: C:\\Users\\engin\\Documents\\GitHub\\Ay_Ge_107\\data\\lris0152.fits\n",
      "No.    Name      Ver    Type      Cards   Dimensions   Format\n",
      "  0  PRIMARY       1 PrimaryHDU      72   (2250, 2048)   int16 (rescales to uint16)   \n",
      "None\n",
      "C:\\Users\\engin\\Documents\\GitHub\\Ay_Ge_107\\data\\lris0153.fits\n",
      "Filename: C:\\Users\\engin\\Documents\\GitHub\\Ay_Ge_107\\data\\lris0153.fits\n",
      "No.    Name      Ver    Type      Cards   Dimensions   Format\n",
      "  0  PRIMARY       1 PrimaryHDU      72   (2250, 2048)   int16 (rescales to uint16)   \n",
      "None\n",
      "C:\\Users\\engin\\Documents\\GitHub\\Ay_Ge_107\\data\\lris0154.fits\n",
      "Filename: C:\\Users\\engin\\Documents\\GitHub\\Ay_Ge_107\\data\\lris0154.fits\n",
      "No.    Name      Ver    Type      Cards   Dimensions   Format\n",
      "  0  PRIMARY       1 PrimaryHDU      72   (2250, 2048)   int16 (rescales to uint16)   \n",
      "None\n",
      "C:\\Users\\engin\\Documents\\GitHub\\Ay_Ge_107\\data\\lris0155.fits\n",
      "Filename: C:\\Users\\engin\\Documents\\GitHub\\Ay_Ge_107\\data\\lris0155.fits\n",
      "No.    Name      Ver    Type      Cards   Dimensions   Format\n",
      "  0  PRIMARY       1 PrimaryHDU      72   (2250, 2048)   int16 (rescales to uint16)   \n",
      "None\n",
      "C:\\Users\\engin\\Documents\\GitHub\\Ay_Ge_107\\data\\lris0156.fits\n",
      "Filename: C:\\Users\\engin\\Documents\\GitHub\\Ay_Ge_107\\data\\lris0156.fits\n",
      "No.    Name      Ver    Type      Cards   Dimensions   Format\n",
      "  0  PRIMARY       1 PrimaryHDU      72   (2250, 2048)   int16 (rescales to uint16)   \n",
      "None\n",
      "C:\\Users\\engin\\Documents\\GitHub\\Ay_Ge_107\\data\\lris0157.fits\n",
      "Filename: C:\\Users\\engin\\Documents\\GitHub\\Ay_Ge_107\\data\\lris0157.fits\n",
      "No.    Name      Ver    Type      Cards   Dimensions   Format\n",
      "  0  PRIMARY       1 PrimaryHDU      72   (2250, 2048)   int16 (rescales to uint16)   \n",
      "None\n",
      "C:\\Users\\engin\\Documents\\GitHub\\Ay_Ge_107\\data\\lris0158.fits\n",
      "Filename: C:\\Users\\engin\\Documents\\GitHub\\Ay_Ge_107\\data\\lris0158.fits\n",
      "No.    Name      Ver    Type      Cards   Dimensions   Format\n",
      "  0  PRIMARY       1 PrimaryHDU      72   (2250, 2048)   int16 (rescales to uint16)   \n",
      "None\n",
      "C:\\Users\\engin\\Documents\\GitHub\\Ay_Ge_107\\data\\lris0159.fits\n",
      "Filename: C:\\Users\\engin\\Documents\\GitHub\\Ay_Ge_107\\data\\lris0159.fits\n",
      "No.    Name      Ver    Type      Cards   Dimensions   Format\n",
      "  0  PRIMARY       1 PrimaryHDU      72   (2250, 2048)   int16 (rescales to uint16)   \n",
      "None\n",
      "C:\\Users\\engin\\Documents\\GitHub\\Ay_Ge_107\\data\\lris0160.fits\n",
      "Filename: C:\\Users\\engin\\Documents\\GitHub\\Ay_Ge_107\\data\\lris0160.fits\n",
      "No.    Name      Ver    Type      Cards   Dimensions   Format\n",
      "  0  PRIMARY       1 PrimaryHDU      72   (2250, 2048)   int16 (rescales to uint16)   \n",
      "None\n",
      "C:\\Users\\engin\\Documents\\GitHub\\Ay_Ge_107\\data\\lris0161.fits\n",
      "Filename: C:\\Users\\engin\\Documents\\GitHub\\Ay_Ge_107\\data\\lris0161.fits\n",
      "No.    Name      Ver    Type      Cards   Dimensions   Format\n",
      "  0  PRIMARY       1 PrimaryHDU      72   (2250, 2048)   int16 (rescales to uint16)   \n",
      "None\n",
      "C:\\Users\\engin\\Documents\\GitHub\\Ay_Ge_107\\data\\lris0162.fits\n",
      "Filename: C:\\Users\\engin\\Documents\\GitHub\\Ay_Ge_107\\data\\lris0162.fits\n",
      "No.    Name      Ver    Type      Cards   Dimensions   Format\n",
      "  0  PRIMARY       1 PrimaryHDU      72   (2250, 2048)   int16 (rescales to uint16)   \n",
      "None\n",
      "C:\\Users\\engin\\Documents\\GitHub\\Ay_Ge_107\\data\\lris0167.fits\n",
      "Filename: C:\\Users\\engin\\Documents\\GitHub\\Ay_Ge_107\\data\\lris0167.fits\n",
      "No.    Name      Ver    Type      Cards   Dimensions   Format\n",
      "  0  PRIMARY       1 PrimaryHDU      72   (2250, 2048)   int16 (rescales to uint16)   \n",
      "None\n",
      "C:\\Users\\engin\\Documents\\GitHub\\Ay_Ge_107\\data\\lris0172.fits\n",
      "Filename: C:\\Users\\engin\\Documents\\GitHub\\Ay_Ge_107\\data\\lris0172.fits\n",
      "No.    Name      Ver    Type      Cards   Dimensions   Format\n",
      "  0  PRIMARY       1 PrimaryHDU      72   (2250, 2048)   int16 (rescales to uint16)   \n",
      "None\n",
      "C:\\Users\\engin\\Documents\\GitHub\\Ay_Ge_107\\data\\lris0173.fits\n",
      "Filename: C:\\Users\\engin\\Documents\\GitHub\\Ay_Ge_107\\data\\lris0173.fits\n",
      "No.    Name      Ver    Type      Cards   Dimensions   Format\n",
      "  0  PRIMARY       1 PrimaryHDU      72   (2250, 2048)   int16 (rescales to uint16)   \n",
      "None\n",
      "C:\\Users\\engin\\Documents\\GitHub\\Ay_Ge_107\\data\\lris0174.fits\n",
      "Filename: C:\\Users\\engin\\Documents\\GitHub\\Ay_Ge_107\\data\\lris0174.fits\n",
      "No.    Name      Ver    Type      Cards   Dimensions   Format\n",
      "  0  PRIMARY       1 PrimaryHDU      72   (2250, 2048)   int16 (rescales to uint16)   \n",
      "None\n",
      "C:\\Users\\engin\\Documents\\GitHub\\Ay_Ge_107\\data\\lris0175.fits\n",
      "Filename: C:\\Users\\engin\\Documents\\GitHub\\Ay_Ge_107\\data\\lris0175.fits\n",
      "No.    Name      Ver    Type      Cards   Dimensions   Format\n",
      "  0  PRIMARY       1 PrimaryHDU      72   (2250, 2048)   int16 (rescales to uint16)   \n",
      "None\n",
      "C:\\Users\\engin\\Documents\\GitHub\\Ay_Ge_107\\data\\lris0176.fits\n",
      "Filename: C:\\Users\\engin\\Documents\\GitHub\\Ay_Ge_107\\data\\lris0176.fits\n",
      "No.    Name      Ver    Type      Cards   Dimensions   Format\n",
      "  0  PRIMARY       1 PrimaryHDU      72   (2250, 2048)   int16 (rescales to uint16)   \n",
      "None\n",
      "C:\\Users\\engin\\Documents\\GitHub\\Ay_Ge_107\\data\\lris0177.fits\n",
      "Filename: C:\\Users\\engin\\Documents\\GitHub\\Ay_Ge_107\\data\\lris0177.fits\n",
      "No.    Name      Ver    Type      Cards   Dimensions   Format\n",
      "  0  PRIMARY       1 PrimaryHDU      72   (2250, 2048)   int16 (rescales to uint16)   \n",
      "None\n",
      "C:\\Users\\engin\\Documents\\GitHub\\Ay_Ge_107\\data\\lris0178.fits\n",
      "Filename: C:\\Users\\engin\\Documents\\GitHub\\Ay_Ge_107\\data\\lris0178.fits\n",
      "No.    Name      Ver    Type      Cards   Dimensions   Format\n",
      "  0  PRIMARY       1 PrimaryHDU      72   (2250, 2048)   int16 (rescales to uint16)   \n",
      "None\n",
      "C:\\Users\\engin\\Documents\\GitHub\\Ay_Ge_107\\data\\lris0179.fits\n",
      "Filename: C:\\Users\\engin\\Documents\\GitHub\\Ay_Ge_107\\data\\lris0179.fits\n",
      "No.    Name      Ver    Type      Cards   Dimensions   Format\n",
      "  0  PRIMARY       1 PrimaryHDU      72   (2250, 2048)   int16 (rescales to uint16)   \n",
      "None\n",
      "C:\\Users\\engin\\Documents\\GitHub\\Ay_Ge_107\\data\\lris0180.fits\n",
      "Filename: C:\\Users\\engin\\Documents\\GitHub\\Ay_Ge_107\\data\\lris0180.fits\n",
      "No.    Name      Ver    Type      Cards   Dimensions   Format\n",
      "  0  PRIMARY       1 PrimaryHDU      72   (2250, 2048)   int16 (rescales to uint16)   \n",
      "None\n",
      "C:\\Users\\engin\\Documents\\GitHub\\Ay_Ge_107\\data\\lris0181.fits\n",
      "Filename: C:\\Users\\engin\\Documents\\GitHub\\Ay_Ge_107\\data\\lris0181.fits\n",
      "No.    Name      Ver    Type      Cards   Dimensions   Format\n",
      "  0  PRIMARY       1 PrimaryHDU      72   (2250, 2048)   int16 (rescales to uint16)   \n"
     ]
    },
    {
     "name": "stdout",
     "output_type": "stream",
     "text": [
      "None\n",
      "C:\\Users\\engin\\Documents\\GitHub\\Ay_Ge_107\\data\\lris0182.fits\n",
      "Filename: C:\\Users\\engin\\Documents\\GitHub\\Ay_Ge_107\\data\\lris0182.fits\n",
      "No.    Name      Ver    Type      Cards   Dimensions   Format\n",
      "  0  PRIMARY       1 PrimaryHDU      72   (2250, 2048)   int16 (rescales to uint16)   \n",
      "None\n"
     ]
    }
   ],
   "source": [
    "for index in range(len(file_array)):\n",
    "    path = directory + \"\\\\\" + file_array[index]\n",
    "    if(index > 0 and index < len(file_array) - 1):\n",
    "        print(path)\n",
    "        header = fits.open(path).info()\n",
    "        print(header)"
   ]
  },
  {
   "cell_type": "markdown",
   "metadata": {},
   "source": [
    "# Q1: Print out a log table in-line:\n",
    "For each file, the table should include: The file name, the UT time, the target RA and DEC, the target name, the object name, the airmass, the filter, and the exposure time.\n",
    "Make sure your table has a title on every column, including units when relevant.\n",
    "Note: Target name is added automatically to the fits header by the instrument, Object name is added manually by the observer. It's useful to look at both because they may contain slightly different information, and if they disagree for a given file you need to figure out why and which is correct (there are many reasons why one or the other may be incorrect)."
   ]
  },
  {
   "cell_type": "code",
   "execution_count": null,
   "metadata": {},
   "outputs": [],
   "source": []
  },
  {
   "cell_type": "markdown",
   "metadata": {},
   "source": [
    "The files in this set include flat fields and science fields. Display at least one of the science fields to orient yourself to what raw data looks like.\n",
    "Note: When reading in the fits data, always convert the datatype to float, e.g.: im = np.array(im,dtype='float'). Otherwise your math on the images later in the notebook will produce strange results."
   ]
  },
  {
   "cell_type": "code",
   "execution_count": null,
   "metadata": {},
   "outputs": [],
   "source": []
  },
  {
   "cell_type": "markdown",
   "metadata": {},
   "source": [
    "# Part II: Basic Calibrations: Bias, Dark, Flat"
   ]
  },
  {
   "cell_type": "markdown",
   "metadata": {},
   "source": [
    "Display one of the flat fields. Title the figure with \"FLAT\" and the filter name. Make sure you understand the various aspects of the image and why it looks the way it does."
   ]
  },
  {
   "cell_type": "code",
   "execution_count": null,
   "metadata": {},
   "outputs": [],
   "source": []
  },
  {
   "cell_type": "markdown",
   "metadata": {},
   "source": [
    "Identify the column number that marks the divide between the two halves of the CCD (with different amplifiers)"
   ]
  },
  {
   "cell_type": "code",
   "execution_count": null,
   "metadata": {},
   "outputs": [],
   "source": []
  },
  {
   "cell_type": "markdown",
   "metadata": {},
   "source": [
    "Identify the columns and rows that contain the two overscan regions for each detector half. This is most easily done by displaying a median average horizontal profile averaged over the entire frame. The overscan regions are the two stripes down the right side between roughly columns 2100 and 2250. The left overscan region has the bias+dark level for the left side of the detector. The right overscan region has the bias+dark level for the left side of the detector."
   ]
  },
  {
   "cell_type": "code",
   "execution_count": null,
   "metadata": {},
   "outputs": [],
   "source": []
  },
  {
   "cell_type": "code",
   "execution_count": null,
   "metadata": {},
   "outputs": [],
   "source": []
  },
  {
   "cell_type": "code",
   "execution_count": null,
   "metadata": {},
   "outputs": [],
   "source": []
  },
  {
   "cell_type": "code",
   "execution_count": null,
   "metadata": {},
   "outputs": [],
   "source": []
  },
  {
   "cell_type": "markdown",
   "metadata": {},
   "source": [
    "# Q2a: Write down the column number that divides the two detector halves, and the column numbers containing the left and right overscan region."
   ]
  },
  {
   "cell_type": "markdown",
   "metadata": {},
   "source": [
    "Now you're going to create a clean, normalized  \"master flat field\" for each filter. To do this, for each flat: (1) subtract the bias+dark level then crop out the un-illuminated region of the detector, (2) median-average all flat frames within each filter, and\n",
    "(3) normalize the master flat so that its median value is 1. Note 1: make sure that all the flat fields you're using to make the master have the same exposure time. Note 2: Make sure you have viewed every image you're using and that it looks as expected. For a flat field, \"as expected\" means that all flats using a given filter have roughly the same counts, those counts are much higher than the bias level, and there are no astronomical sources in the field. Log files and fits headers have been known to be incorrect."
   ]
  },
  {
   "cell_type": "code",
   "execution_count": null,
   "metadata": {},
   "outputs": [],
   "source": []
  },
  {
   "cell_type": "code",
   "execution_count": null,
   "metadata": {},
   "outputs": [],
   "source": []
  },
  {
   "cell_type": "code",
   "execution_count": null,
   "metadata": {},
   "outputs": [],
   "source": []
  },
  {
   "cell_type": "code",
   "execution_count": null,
   "metadata": {},
   "outputs": [],
   "source": []
  },
  {
   "cell_type": "code",
   "execution_count": null,
   "metadata": {},
   "outputs": [],
   "source": []
  },
  {
   "cell_type": "code",
   "execution_count": null,
   "metadata": {},
   "outputs": [],
   "source": []
  },
  {
   "cell_type": "markdown",
   "metadata": {},
   "source": [
    "# Q2b: Display your final normalized master flat fields with colorbars. Title each plot with \"Master Flat\" plus the filter name"
   ]
  },
  {
   "cell_type": "code",
   "execution_count": null,
   "metadata": {},
   "outputs": [],
   "source": []
  },
  {
   "cell_type": "markdown",
   "metadata": {},
   "source": [
    "# Part III: Photometric Calibration"
   ]
  },
  {
   "cell_type": "markdown",
   "metadata": {},
   "source": [
    "For the flux calibration of the images, you will be using standard star SA 110 361.\n",
    "Go to https://www.eso.org/sci/observing/tools/standards/Landolt.html, and find 110 361, display the gif.\n",
    "Use the chart to identify which star is 361.\n",
    "Pay attention to the scale bar to orient relative scales. You will want to know the size of your image in arcminutes"
   ]
  },
  {
   "cell_type": "markdown",
   "metadata": {},
   "source": [
    "# Q3a: Using the link above, write down the magnitudes of star 110 361 in each of your observing filters."
   ]
  },
  {
   "cell_type": "code",
   "execution_count": null,
   "metadata": {},
   "outputs": [],
   "source": []
  },
  {
   "cell_type": "markdown",
   "metadata": {},
   "source": [
    "# Q3b: Express these magnitudes in flux densities in units of W/m^2/micron. Use zero-magnitude flux densities of: R: 1.738e-8 W/m2/um, I: 8.318e-9 W/m2/um"
   ]
  },
  {
   "cell_type": "code",
   "execution_count": null,
   "metadata": {},
   "outputs": [],
   "source": []
  },
  {
   "cell_type": "markdown",
   "metadata": {},
   "source": [
    "Next, you will need to use aperture photometry to determine the brightness of the star in both filters in units of detector counts per second. This will enable you to derive a conversion factor between counts/second and physical flux density that will be applied to your scientific targets."
   ]
  },
  {
   "cell_type": "markdown",
   "metadata": {},
   "source": [
    "Starting with one filter, do the bias and flat correction on the standard star field and display the corrected image"
   ]
  },
  {
   "cell_type": "code",
   "execution_count": null,
   "metadata": {},
   "outputs": [],
   "source": []
  },
  {
   "cell_type": "markdown",
   "metadata": {},
   "source": [
    "# Q3c. Write down the pixel coordinates of the center of the standard star"
   ]
  },
  {
   "cell_type": "code",
   "execution_count": null,
   "metadata": {},
   "outputs": [],
   "source": []
  },
  {
   "cell_type": "code",
   "execution_count": null,
   "metadata": {},
   "outputs": [],
   "source": []
  },
  {
   "cell_type": "markdown",
   "metadata": {},
   "source": [
    "Now, perform aperture photometry on the standard star to determine its brightness in counts/second. When choosing your three radii for aperture photometry, first explore the outer two radii, making sure the chosen background annulus does not contain any sources nor significant flux from the star. Then, for every aperture photometry operation in this notebook, you will need to include a plot of counts/sec vs. inner radius (in pixels), to show where the curve levels off and demonstrate the counts/sec value you've chosen. Note: you will need to divide by exposure time to get to \"per second\"."
   ]
  },
  {
   "cell_type": "markdown",
   "metadata": {},
   "source": [
    "You may find the function below useful for implementing the aperture photometry: The function takes an image and an (x,y) coordinate pair, and outputs a new image where the value of every pixel is the distance in pixels between that pixel and the input coordinate."
   ]
  },
  {
   "cell_type": "code",
   "execution_count": 5,
   "metadata": {},
   "outputs": [],
   "source": [
    "def dist(xcoord,ycoord,image):\n",
    "    xx = np.arange((image.shape[0]))\n",
    "    xim = np.repeat(xx,image.shape[1]).reshape(image.shape) # xcoordinate of each pixel\n",
    "    yy = np.arange((image.shape[1]))\n",
    "    yim = np.tile(yy,image.shape[0]).reshape(image.shape) #ycoordinate of each pixel\n",
    "    dist = np.sqrt((xim-xcoord)**2.+(yim-ycoord)**2.)\n",
    "    return(dist)"
   ]
  },
  {
   "cell_type": "code",
   "execution_count": null,
   "metadata": {},
   "outputs": [],
   "source": []
  },
  {
   "cell_type": "code",
   "execution_count": null,
   "metadata": {},
   "outputs": [],
   "source": []
  },
  {
   "cell_type": "code",
   "execution_count": null,
   "metadata": {},
   "outputs": [],
   "source": []
  },
  {
   "cell_type": "markdown",
   "metadata": {},
   "source": [
    "Repeat for second filter. Note that the standard star may not be at the exact same location between filters."
   ]
  },
  {
   "cell_type": "code",
   "execution_count": null,
   "metadata": {},
   "outputs": [],
   "source": []
  },
  {
   "cell_type": "code",
   "execution_count": null,
   "metadata": {},
   "outputs": [],
   "source": []
  },
  {
   "cell_type": "code",
   "execution_count": null,
   "metadata": {},
   "outputs": [],
   "source": []
  },
  {
   "cell_type": "code",
   "execution_count": null,
   "metadata": {},
   "outputs": [],
   "source": []
  },
  {
   "cell_type": "code",
   "execution_count": null,
   "metadata": {},
   "outputs": [],
   "source": []
  },
  {
   "cell_type": "markdown",
   "metadata": {},
   "source": [
    "# Q3d: Display a plot of Counts/sec of the star vs. Inner radius in pixels, for each filter. Label each with the filter name. Write down the counts/second of the star in each filter (labeled by filter), and the conversion factor in units of (W/m^2/micron)/(counts/sec) for each filter. These conversion factors are the final step of the flux calibration."
   ]
  },
  {
   "cell_type": "code",
   "execution_count": null,
   "metadata": {},
   "outputs": [],
   "source": []
  },
  {
   "cell_type": "code",
   "execution_count": null,
   "metadata": {},
   "outputs": [],
   "source": []
  },
  {
   "cell_type": "markdown",
   "metadata": {},
   "source": [
    "# Part IV. Scientific image analysis"
   ]
  },
  {
   "cell_type": "markdown",
   "metadata": {},
   "source": [
    "We will be using the field NGC 7129. Start by displaying a couple of the images to see how they differ. Note that there are images with different exposure times. You will need to make sure the stars you are using in this section are not saturated. Using the shorter exposure time images will allow you to measure brighter stars, while the longer exposure times will allow you to measure the fainter stars."
   ]
  },
  {
   "cell_type": "markdown",
   "metadata": {},
   "source": [
    "To orient yourself to the field, find a picture of star-forming region NGC 7219 online. e.g. https://noirlab.edu/public/images/noao-ngc7129/\n",
    "and orient yourself to which part of the nebula your data is of.\n",
    "Note: you may want to look at the header keywords:\n",
    "ROTMODE: position angle means rotation angle of the image east of north.\n",
    "ROTPPOSN is the value of the rotation angle."
   ]
  },
  {
   "cell_type": "code",
   "execution_count": null,
   "metadata": {},
   "outputs": [],
   "source": []
  },
  {
   "cell_type": "markdown",
   "metadata": {},
   "source": [
    "# Q4a: Choose 5 stars. For each star you've chosen, display the plots of (Counts/sec) vs. Inner radius in pixels, and write down its total brightness in counts/sec. Repeat for each filter."
   ]
  },
  {
   "cell_type": "code",
   "execution_count": null,
   "metadata": {},
   "outputs": [],
   "source": []
  },
  {
   "cell_type": "code",
   "execution_count": null,
   "metadata": {},
   "outputs": [],
   "source": []
  },
  {
   "cell_type": "code",
   "execution_count": null,
   "metadata": {},
   "outputs": [],
   "source": []
  },
  {
   "cell_type": "code",
   "execution_count": null,
   "metadata": {},
   "outputs": [],
   "source": []
  },
  {
   "cell_type": "code",
   "execution_count": null,
   "metadata": {},
   "outputs": [],
   "source": []
  },
  {
   "cell_type": "code",
   "execution_count": null,
   "metadata": {},
   "outputs": [],
   "source": []
  },
  {
   "cell_type": "code",
   "execution_count": null,
   "metadata": {},
   "outputs": [],
   "source": []
  },
  {
   "cell_type": "code",
   "execution_count": null,
   "metadata": {},
   "outputs": [],
   "source": []
  },
  {
   "cell_type": "code",
   "execution_count": null,
   "metadata": {},
   "outputs": [],
   "source": []
  },
  {
   "cell_type": "code",
   "execution_count": null,
   "metadata": {},
   "outputs": [],
   "source": []
  },
  {
   "cell_type": "code",
   "execution_count": null,
   "metadata": {},
   "outputs": [],
   "source": []
  },
  {
   "cell_type": "code",
   "execution_count": null,
   "metadata": {},
   "outputs": [],
   "source": []
  },
  {
   "cell_type": "code",
   "execution_count": null,
   "metadata": {},
   "outputs": [],
   "source": []
  },
  {
   "cell_type": "code",
   "execution_count": null,
   "metadata": {},
   "outputs": [],
   "source": []
  },
  {
   "cell_type": "code",
   "execution_count": null,
   "metadata": {},
   "outputs": [],
   "source": []
  },
  {
   "cell_type": "code",
   "execution_count": null,
   "metadata": {},
   "outputs": [],
   "source": []
  },
  {
   "cell_type": "code",
   "execution_count": null,
   "metadata": {},
   "outputs": [],
   "source": []
  },
  {
   "cell_type": "code",
   "execution_count": null,
   "metadata": {},
   "outputs": [],
   "source": []
  },
  {
   "cell_type": "code",
   "execution_count": null,
   "metadata": {},
   "outputs": [],
   "source": []
  },
  {
   "cell_type": "code",
   "execution_count": null,
   "metadata": {},
   "outputs": [],
   "source": []
  },
  {
   "cell_type": "code",
   "execution_count": null,
   "metadata": {},
   "outputs": [],
   "source": []
  },
  {
   "cell_type": "code",
   "execution_count": null,
   "metadata": {},
   "outputs": [],
   "source": []
  },
  {
   "cell_type": "markdown",
   "metadata": {},
   "source": [
    "# Q4b: Create a plot containing the spectrum of each star. Ror each of your 5 stars, there should be a point for each filter with the x-coordinate the filter wavelength and the y-coordinate the flux density, converted from counts/sec using your photometry conversion factor. Each star should be labeled, the plot should have a legend, and x and y axes should have units and labels."
   ]
  },
  {
   "cell_type": "code",
   "execution_count": null,
   "metadata": {},
   "outputs": [],
   "source": []
  },
  {
   "cell_type": "code",
   "execution_count": null,
   "metadata": {},
   "outputs": [],
   "source": []
  },
  {
   "cell_type": "code",
   "execution_count": null,
   "metadata": {},
   "outputs": [],
   "source": []
  },
  {
   "cell_type": "markdown",
   "metadata": {},
   "source": [
    "# Q4c: Create a color-magnitude diagram of your cluster stars, with color (i.e. difference in magnitudes between the two filters) on the x-axis, and the magnitude in one of the filters on the y-axis. Based on this, can you make any guesses on which of your chosen stars belong to the cluster?"
   ]
  },
  {
   "cell_type": "code",
   "execution_count": null,
   "metadata": {},
   "outputs": [],
   "source": []
  },
  {
   "cell_type": "code",
   "execution_count": null,
   "metadata": {},
   "outputs": [],
   "source": []
  },
  {
   "cell_type": "markdown",
   "metadata": {},
   "source": [
    "These data are published in Dahm and Hillenbrand (2015), you can find the full color-magnitude diagram including many more sources than your analysis in Figure 3 of this paper: https://iopscience.iop.org/article/10.1088/0004-6256/149/6/200/pdf "
   ]
  },
  {
   "cell_type": "code",
   "execution_count": null,
   "metadata": {},
   "outputs": [],
   "source": []
  }
 ],
 "metadata": {
  "kernelspec": {
   "display_name": "Python 3",
   "language": "python",
   "name": "python3"
  },
  "language_info": {
   "codemirror_mode": {
    "name": "ipython",
    "version": 3
   },
   "file_extension": ".py",
   "mimetype": "text/x-python",
   "name": "python",
   "nbconvert_exporter": "python",
   "pygments_lexer": "ipython3",
   "version": "3.8.3"
  }
 },
 "nbformat": 4,
 "nbformat_minor": 2
}
