{
 "cells": [
  {
   "cell_type": "code",
   "execution_count": 73,
   "metadata": {
    "scrolled": true
   },
   "outputs": [
    {
     "name": "stdout",
     "output_type": "stream",
     "text": [
      "Populating the interactive namespace from numpy and matplotlib\n"
     ]
    }
   ],
   "source": [
    "%pylab inline\n",
    "from astropy.io import fits\n",
    "import subprocess\n",
    "import copy\n",
    "import pprint\n",
    "import pandas as pd\n",
    "pp = pprint.PrettyPrinter(width = 41, compact = True)\n",
    "import warnings\n",
    "warnings.filterwarnings('ignore')"
   ]
  },
  {
   "cell_type": "markdown",
   "metadata": {},
   "source": [
    "# Part I: Orienting yourself to the dataset."
   ]
  },
  {
   "cell_type": "markdown",
   "metadata": {},
   "source": [
    "Get to know the data: Display the list of available files. Display a header and explore the keywords and their values. This time, all included files will be used. Note 1: when reading in these data using the astropy fits package, you may need to specify the keyword ignore_missing_end=True, or astropy will crash. It may still throw a lot of warnings, but these can be ignored if there are no errors. Note 2: The spectrum will be oriented up-down by default. Please rotate all images as you read them in (e.g. using numpy's rot90() function), so that the spectra run left-right along the detector. This notebook is written assuming that the files have been rotated so that the spectra run left."
   ]
  },
  {
   "cell_type": "code",
   "execution_count": 74,
   "metadata": {},
   "outputs": [
    {
     "name": "stdout",
     "output_type": "stream",
     "text": [
      "['.DS_Store', 'nov05s0002.fits', 'nov05s0003.fits', 'nov05s0004.fits', 'nov05s0005.fits', 'nov05s0006.fits', 'nov05s0007.fits', 'nov05s0016.fits', 'nov05s0017.fits', 'nov05s0038.fits', 'nov05s0039.fits']\n"
     ]
    }
   ],
   "source": [
    "#Display the list of available files.\n",
    "directory = subprocess.os.getcwd() + \"\\\\Ay107Spec\"\n",
    "subprocess.os.listdir(path = directory)\n",
    "file_array = subprocess.os.listdir(path = directory) #the first and last entries aren't fits files\n",
    "print(file_array)"
   ]
  },
  {
   "cell_type": "code",
   "execution_count": 75,
   "metadata": {},
   "outputs": [
    {
     "name": "stdout",
     "output_type": "stream",
     "text": [
      "path of file that contains this header:\n",
      " C:\\Users\\engin\\Documents\\GitHub\\Ay_Ge_107\\Ay107Spec\\nov05s0003.fits\n",
      "SIMPLE  =                    T / Tape is in Fits format                         \n",
      "BITPIX  =                   32 / Bits per pixel                                 \n",
      "NAXIS   =                    2 / Number of axes                                 \n",
      "NAXIS1  =                 1024 / Number of pixels in axis 1                     \n",
      "NAXIS2  =                 1024 / Number of pixels in axis 2                     \n",
      "EXTEND  =                    T                                                  \n",
      "BSCALE  =              1.00000 / Scaling factor                                 \n",
      "BZERO   =              0.00000 / Scaling zero-point                             \n",
      "TELESCOP= 'Keck II           ' / Telescope                                      \n",
      "OBSERVER= 'Imke, Hammel, de K' / Observer                                       \n",
      "OBJECT  = '                  ' / Object name                                    \n",
      "COMMENT = 'flat field        ' / Comment                                        \n",
      "ROOTNAME= 'nov05s            ' / File Root Name                                 \n",
      "FILENUM =                    3 / Frame Number                                   \n",
      "FILENAME= 'nov05s0003.fits   ' / Name of file                                   \n",
      "OUTDIR  = '/sdata602/nirspec/2012nov05/spec/     ' / Data Directory             \n",
      "SCRIPTNA= 'NULL              ' / Name of current script                         \n",
      "FILNAME = 'NIRSPEC-6         ' / Filter Name                                    \n",
      "SLITNAME= '42x0.760          ' / Slit Name                                      \n",
      "SLITPA  =                0.000 / Slit position angle                            \n",
      "SLITX   =              129.500 / X pixel of the center of the slit              \n",
      "SLITY   =              122.000 / Y pixel of the center of the slit              \n",
      "SLITANG =               85.300 / Slit angle in the scam. CCW from hor.          \n",
      "SCAMPA  =                0.000 / Scam position angle                            \n",
      "ITIME   =                0.250 / Integration time per coadd                     \n",
      "COADDS  =                    1 / Number of coadds                               \n",
      "SAMPMODE=                    2 / 1=Single; 2=CDS; 3=MCDS                        \n",
      "DETBIAS =                  450 / Detector bias setting (0-4096)                 \n",
      "MULTISPE=                    2 / Number of multiple reads                       \n",
      "SAMPRATE=                  250 / Spec sampling rate in KHz                      \n",
      "Q1OFFSET=                 3240 / Aladdin Quadrant 1 preamp offset               \n",
      "Q2OFFSET=                 3240 / Aladdin Quadrant 2 preamp offset               \n",
      "Q3OFFSET=                 3240 / Aladdin Quadrant 3 preamp offset               \n",
      "Q4OFFSET=                 3240 / Aladdin Quadrant 4 preamp offset               \n",
      "GAIN.SPE=                    4 / Preamp gain setting 1-4                        \n",
      "FREQ.SPE=                    4 / Preamp filtering frequency setting 1-4         \n",
      "CRYOTEMP=               30.000 / Aladdin cold head temperature                  \n",
      "FIL1POS =                   11 / Filter 1 Position                              \n",
      "FIL2POS =                    0 / Filter 2 Position                              \n",
      "SLITPOS =                   11 / Slit Position                                  \n",
      "ECHLPOS =              179.700 / Echelle position                               \n",
      "DISPPOS =               33.610 / Cross Disperser position                       \n",
      "IROTLOC =                54000 / Step position of Image rotator                 \n",
      "CALMPOS =                    1 / Cal. Mirror Position, 0=out, 1=in              \n",
      "CALCPOS =                    0 / Cal. Cover Position, 0=out, 1=in               \n",
      "CALPPOS =                    0 / Cal. Pinhole Position, 0=out, 1=in             \n",
      "NEON    =                    0 / Neon lamp: 1=on, 0=off                         \n",
      "ARGON   =                    0 / Argon lamp: 1=on, 0=off                        \n",
      "KRYPTON =                    0 / Krypton lamp: 1=on, 0=off                      \n",
      "XENON   =                    0 / Xenon lamp: 1=on, 0=off                        \n",
      "ETALON  =                    0 / Etalon lamp: 1=on, 0=off                       \n",
      "FLAT    =                    1 / Flat lamp: 1=on, 0=off                         \n",
      "UTC     = '#### Error ###    ' / CA connection failed                           \n",
      "AIRMASS = '#### Error ###    ' / CA connection failed                           \n",
      "AXESTAT = '#### Error ###    ' / CA connection failed                           \n",
      "AZ      = '#### Error ###    ' / CA connection failed                           \n",
      "CALOCAL = '#### Error ###    ' / CA connection failed                           \n",
      "CELOCAL = '#### Error ###    ' / CA connection failed                           \n",
      "CURRINST= '#### Error ###    ' / CA connection failed                           \n",
      "DATE-OBS= '#### Error ###    ' / CA connection failed                           \n",
      "DCSSTAT = '#### Error ###    ' / CA connection failed                           \n",
      "DCSVERS = '#### Error ###    ' / CA connection failed                           \n",
      "DEC     = '#### Error ###    ' / CA connection failed                           \n",
      "DOMEPOSN= '#### Error ###    ' / CA connection failed                           \n",
      "DOMESTAT= '#### Error ###    ' / CA connection failed                           \n",
      "EL      = '#### Error ###    ' / CA connection failed                           \n",
      "EQUINOX = '#### Error ###    ' / CA connection failed                           \n",
      "FOCALSTN= '#### Error ###    ' / CA connection failed                           \n",
      "HA      = '#### Error ###    ' / CA connection failed                           \n",
      "LST     = '#### Error ###    ' / CA connection failed                           \n",
      "MJD-OBS = '#### Error ###    ' / CA connection failed                           \n",
      "PARANG  = '#### Error ###    ' / CA connection failed                           \n",
      "PARANTEL= '#### Error ###    ' / CA connection failed                           \n",
      "DRA     = '#### Error ###    ' / CA connection failed                           \n",
      "DDEC    = '#### Error ###    ' / CA connection failed                           \n",
      "DTRACK  = '#### Error ###    ' / CA connection failed                           \n",
      "PONAME  = '#### Error ###    ' / CA connection failed                           \n",
      "POXOFF  = '#### Error ###    ' / CA connection failed                           \n",
      "POYOFF  = '#### Error ###    ' / CA connection failed                           \n",
      "POXPOS  = '#### Error ###    ' / CA connection failed                           \n",
      "POYPOS  = '#### Error ###    ' / CA connection failed                           \n",
      "PONAME1 = '#### Error ###    ' / CA connection failed                           \n",
      "POXPOS1 = '#### Error ###    ' / CA connection failed                           \n",
      "POYPOS1 = '#### Error ###    ' / CA connection failed                           \n",
      "PONAME2 = '#### Error ###    ' / CA connection failed                           \n",
      "POXPOS2 = '#### Error ###    ' / CA connection failed                           \n",
      "POYPOS2 = '#### Error ###    ' / CA connection failed                           \n",
      "PONAME3 = '#### Error ###    ' / CA connection failed                           \n",
      "POXPOS3 = '#### Error ###    ' / CA connection failed                           \n",
      "POYPOS3 = '#### Error ###    ' / CA connection failed                           \n",
      "PONAME4 = '#### Error ###    ' / CA connection failed                           \n",
      "POXPOS4 = '#### Error ###    ' / CA connection failed                           \n",
      "POYPOS4 = '#### Error ###    ' / CA connection failed                           \n",
      "PONAME5 = '#### Error ###    ' / CA connection failed                           \n",
      "POXPOS5 = '#### Error ###    ' / CA connection failed                           \n",
      "POYPOS5 = '#### Error ###    ' / CA connection failed                           \n",
      "PONAME6 = '#### Error ###    ' / CA connection failed                           \n",
      "POXPOS6 = '#### Error ###    ' / CA connection failed                           \n",
      "POYPOS6 = '#### Error ###    ' / CA connection failed                           \n",
      "PONAME7 = '#### Error ###    ' / CA connection failed                           \n",
      "POXPOS7 = '#### Error ###    ' / CA connection failed                           \n",
      "POYPOS7 = '#### Error ###    ' / CA connection failed                           \n",
      "PONAME8 = '#### Error ###    ' / CA connection failed                           \n",
      "POXPOS8 = '#### Error ###    ' / CA connection failed                           \n",
      "POYPOS8 = '#### Error ###    ' / CA connection failed                           \n",
      "PONAME9 = '#### Error ###    ' / CA connection failed                           \n",
      "RA      = '#### Error ###    ' / CA connection failed                           \n",
      "ROTCALAN= '#### Error ###    ' / CA connection failed                           \n",
      "ROTMODE = '#### Error ###    ' / CA connection failed                           \n",
      "ROTPPOSN= '#### Error ###    ' / CA connection failed                           \n",
      "ROTPOSN = '#### Error ###    ' / CA connection failed                           \n",
      "ROTREFAN= '#### Error ###    ' / CA connection failed                           \n",
      "SECFOCUS= '#### Error ###    ' / CA connection failed                           \n",
      "SECTHETX= '#### Error ###    ' / CA connection failed                           \n",
      "SECTHETY= '#### Error ###    ' / CA connection failed                           \n",
      "TARGDEC = '#### Error ###    ' / CA connection failed                           \n",
      "TARGEPOC= '#### Error ###    ' / CA connection failed                           \n",
      "TARGEQUI= '#### Error ###    ' / CA connection failed                           \n",
      "TARGFRAM= '#### Error ###    ' / CA connection failed                           \n",
      "TARGNAME= '#### Error ###    ' / CA connection failed                           \n",
      "TARGPLAX= '#### Error ###    ' / CA connection failed                           \n",
      "TARGPMDC= '#### Error ###    ' / CA connection failed                           \n",
      "TARGPMRA= '#### Error ###    ' / CA connection failed                           \n",
      "TARGRA  = '#### Error ###    ' / CA connection failed                           \n",
      "TARGRADV= '#### Error ###    ' / CA connection failed                           \n",
      "TELESCOP= '#### Error ###    ' / CA connection failed                           \n",
      "TELFOCUS= '#### Error ###    ' / CA connection failed                           \n",
      "TUBETEMP= '#### Error ###    ' / CA connection failed                           \n",
      "UTC     = '#### Error ###    ' / CA connection failed                           \n"
     ]
    }
   ],
   "source": [
    "#Display a header and explore the keywords and their values\n",
    "index = 2\n",
    "path = directory + \"\\\\\" + file_array[index]\n",
    "print(\"path of file that contains this header:\\n\", path)\n",
    "#specify the keyword ignore_missing_end=True, or astropy will crash\n",
    "hdul = fits.open(name = path, ignore_missing_end=True);\n",
    "pp.pprint(hdul[0].header)\n",
    "hdul.close();"
   ]
  },
  {
   "cell_type": "code",
   "execution_count": 76,
   "metadata": {},
   "outputs": [
    {
     "data": {
      "text/plain": [
       "['_EXCLUDE',\n",
       " '_MASK',\n",
       " '__class__',\n",
       " '__delattr__',\n",
       " '__dict__',\n",
       " '__dir__',\n",
       " '__doc__',\n",
       " '__eq__',\n",
       " '__format__',\n",
       " '__ge__',\n",
       " '__getattribute__',\n",
       " '__gt__',\n",
       " '__hash__',\n",
       " '__init__',\n",
       " '__init_subclass__',\n",
       " '__le__',\n",
       " '__lt__',\n",
       " '__module__',\n",
       " '__ne__',\n",
       " '__new__',\n",
       " '__reduce__',\n",
       " '__reduce_ex__',\n",
       " '__repr__',\n",
       " '__setattr__',\n",
       " '__sizeof__',\n",
       " '__str__',\n",
       " '__subclasshook__',\n",
       " '__weakref__',\n",
       " '_axes',\n",
       " '_bitpix',\n",
       " '_blank',\n",
       " '_bscale',\n",
       " '_buffer',\n",
       " '_bzero',\n",
       " '_calculate_checksum',\n",
       " '_calculate_datasum',\n",
       " '_char_encode',\n",
       " '_checksum',\n",
       " '_checksum_valid',\n",
       " '_close',\n",
       " '_compute_checksum',\n",
       " '_compute_hdu_checksum',\n",
       " '_convert_pseudo_unsigned',\n",
       " '_data_loaded',\n",
       " '_data_needs_rescale',\n",
       " '_data_offset',\n",
       " '_data_replaced',\n",
       " '_data_size',\n",
       " '_datasum',\n",
       " '_datasum_valid',\n",
       " '_default_name',\n",
       " '_do_not_scale_image_data',\n",
       " '_dtype_for_bitpix',\n",
       " '_encode_byte',\n",
       " '_file',\n",
       " '_from_data',\n",
       " '_gcount',\n",
       " '_get_raw_data',\n",
       " '_get_scaled_image_data',\n",
       " '_get_timestamp',\n",
       " '_has_data',\n",
       " '_hdu_registry',\n",
       " '_header',\n",
       " '_header_offset',\n",
       " '_header_str',\n",
       " '_modified',\n",
       " '_new',\n",
       " '_orig_bitpix',\n",
       " '_orig_blank',\n",
       " '_orig_bscale',\n",
       " '_orig_bzero',\n",
       " '_output_checksum',\n",
       " '_padding_byte',\n",
       " '_pcount',\n",
       " '_postwriteto',\n",
       " '_prewriteto',\n",
       " '_readfrom_internal',\n",
       " '_scale_back',\n",
       " '_scale_internal',\n",
       " '_standard',\n",
       " '_summary',\n",
       " '_uint',\n",
       " '_update_checksum',\n",
       " '_update_header_scale_info',\n",
       " '_update_uint_scale_keywords',\n",
       " '_verify',\n",
       " '_verify_blank',\n",
       " '_verify_checksum_datasum',\n",
       " '_writedata',\n",
       " '_writedata_direct_copy',\n",
       " '_writedata_internal',\n",
       " '_writeheader',\n",
       " '_writeto',\n",
       " '_writeto_internal',\n",
       " 'add_checksum',\n",
       " 'add_datasum',\n",
       " 'copy',\n",
       " 'data',\n",
       " 'filebytes',\n",
       " 'fileinfo',\n",
       " 'fromstring',\n",
       " 'header',\n",
       " 'is_image',\n",
       " 'level',\n",
       " 'match_header',\n",
       " 'name',\n",
       " 'readfrom',\n",
       " 'register_hdu',\n",
       " 'req_cards',\n",
       " 'run_option',\n",
       " 'scale',\n",
       " 'section',\n",
       " 'shape',\n",
       " 'size',\n",
       " 'standard_keyword_comments',\n",
       " 'unregister_hdu',\n",
       " 'update_header',\n",
       " 'ver',\n",
       " 'verify',\n",
       " 'verify_checksum',\n",
       " 'verify_datasum',\n",
       " 'writeto']"
      ]
     },
     "execution_count": 76,
     "metadata": {},
     "output_type": "execute_result"
    }
   ],
   "source": [
    "dir(hdul[0])"
   ]
  },
  {
   "cell_type": "code",
   "execution_count": null,
   "metadata": {},
   "outputs": [],
   "source": []
  },
  {
   "cell_type": "markdown",
   "metadata": {},
   "source": [
    "# Q1: Print out a log table in-line:\n",
    "For each file, the table should include: The file name, the UT time, the target RA and DEC, the target name, the object name, comment entry, the airmass, the filter, and the exposure time. \n",
    "Make sure your table has a title on every column, including units when relevant."
   ]
  },
  {
   "cell_type": "code",
   "execution_count": 109,
   "metadata": {},
   "outputs": [
    {
     "data": {
      "text/html": [
       "<div>\n",
       "<style scoped>\n",
       "    .dataframe tbody tr th:only-of-type {\n",
       "        vertical-align: middle;\n",
       "    }\n",
       "\n",
       "    .dataframe tbody tr th {\n",
       "        vertical-align: top;\n",
       "    }\n",
       "\n",
       "    .dataframe thead th {\n",
       "        text-align: right;\n",
       "    }\n",
       "</style>\n",
       "<table border=\"1\" class=\"dataframe\">\n",
       "  <thead>\n",
       "    <tr style=\"text-align: right;\">\n",
       "      <th></th>\n",
       "      <th>Right Ascension (decimal degrees)</th>\n",
       "      <th>Declination (decimal degrees)</th>\n",
       "      <th>UT time</th>\n",
       "      <th>Target name</th>\n",
       "      <th>Object name</th>\n",
       "      <th>Airmass (unitless)</th>\n",
       "      <th>Comment Entries</th>\n",
       "      <th>Filter names</th>\n",
       "      <th>Exposure times (seconds)</th>\n",
       "      <th>File names</th>\n",
       "      <th>lamp</th>\n",
       "    </tr>\n",
       "  </thead>\n",
       "  <tbody>\n",
       "    <tr>\n",
       "      <th>1</th>\n",
       "      <td>#### Error ###</td>\n",
       "      <td>#### Error ###</td>\n",
       "      <td>#### Error ###</td>\n",
       "      <td>#### Error ###</td>\n",
       "      <td></td>\n",
       "      <td>#### Error ###</td>\n",
       "      <td>[= 'flat lamp off     ' / Comment]</td>\n",
       "      <td>NIRSPEC-6</td>\n",
       "      <td>0.25</td>\n",
       "      <td>nov05s0002.fits</td>\n",
       "      <td>0</td>\n",
       "    </tr>\n",
       "    <tr>\n",
       "      <th>2</th>\n",
       "      <td>#### Error ###</td>\n",
       "      <td>#### Error ###</td>\n",
       "      <td>#### Error ###</td>\n",
       "      <td>#### Error ###</td>\n",
       "      <td></td>\n",
       "      <td>#### Error ###</td>\n",
       "      <td>[= 'flat field        ' / Comment]</td>\n",
       "      <td>NIRSPEC-6</td>\n",
       "      <td>0.25</td>\n",
       "      <td>nov05s0003.fits</td>\n",
       "      <td>1</td>\n",
       "    </tr>\n",
       "    <tr>\n",
       "      <th>3</th>\n",
       "      <td>#### Error ###</td>\n",
       "      <td>#### Error ###</td>\n",
       "      <td>#### Error ###</td>\n",
       "      <td>#### Error ###</td>\n",
       "      <td></td>\n",
       "      <td>#### Error ###</td>\n",
       "      <td>[= 'NeArXeKr          ' / Comment]</td>\n",
       "      <td>NIRSPEC-6</td>\n",
       "      <td>2.5</td>\n",
       "      <td>nov05s0004.fits</td>\n",
       "      <td>0</td>\n",
       "    </tr>\n",
       "    <tr>\n",
       "      <th>4</th>\n",
       "      <td>#### Error ###</td>\n",
       "      <td>#### Error ###</td>\n",
       "      <td>#### Error ###</td>\n",
       "      <td>#### Error ###</td>\n",
       "      <td></td>\n",
       "      <td>#### Error ###</td>\n",
       "      <td>[= 'NeArXeKr          ' / Comment]</td>\n",
       "      <td>NIRSPEC-6</td>\n",
       "      <td>2.5</td>\n",
       "      <td>nov05s0005.fits</td>\n",
       "      <td>0</td>\n",
       "    </tr>\n",
       "    <tr>\n",
       "      <th>5</th>\n",
       "      <td>#### Error ###</td>\n",
       "      <td>#### Error ###</td>\n",
       "      <td>#### Error ###</td>\n",
       "      <td>#### Error ###</td>\n",
       "      <td></td>\n",
       "      <td>#### Error ###</td>\n",
       "      <td>[= 'flat lamp off     ' / Comment]</td>\n",
       "      <td>NIRSPEC-6</td>\n",
       "      <td>0.25</td>\n",
       "      <td>nov05s0006.fits</td>\n",
       "      <td>0</td>\n",
       "    </tr>\n",
       "    <tr>\n",
       "      <th>6</th>\n",
       "      <td>#### Error ###</td>\n",
       "      <td>#### Error ###</td>\n",
       "      <td>#### Error ###</td>\n",
       "      <td>#### Error ###</td>\n",
       "      <td></td>\n",
       "      <td>#### Error ###</td>\n",
       "      <td>[= 'flat field        ' / Comment]</td>\n",
       "      <td>NIRSPEC-6</td>\n",
       "      <td>0.25</td>\n",
       "      <td>nov05s0007.fits</td>\n",
       "      <td>1</td>\n",
       "    </tr>\n",
       "    <tr>\n",
       "      <th>7</th>\n",
       "      <td>73.403</td>\n",
       "      <td>25.3644</td>\n",
       "      <td>10:47:05.29</td>\n",
       "      <td>HD31033</td>\n",
       "      <td>HD31033</td>\n",
       "      <td>1.07232</td>\n",
       "      <td>[= 'Obs #1, Exp 1.    ' / Comment]</td>\n",
       "      <td>NIRSPEC-6</td>\n",
       "      <td>10</td>\n",
       "      <td>nov05s0016.fits</td>\n",
       "      <td>0</td>\n",
       "    </tr>\n",
       "    <tr>\n",
       "      <th>8</th>\n",
       "      <td>73.4011</td>\n",
       "      <td>25.3683</td>\n",
       "      <td>10:47:40.94</td>\n",
       "      <td>HD31033</td>\n",
       "      <td>HD31033</td>\n",
       "      <td>1.07136</td>\n",
       "      <td>[= 'Obs #1, Exp 2.    ' / Comment]</td>\n",
       "      <td>NIRSPEC-6</td>\n",
       "      <td>10</td>\n",
       "      <td>nov05s0017.fits</td>\n",
       "      <td>0</td>\n",
       "    </tr>\n",
       "    <tr>\n",
       "      <th>9</th>\n",
       "      <td>73.3063</td>\n",
       "      <td>21.7151</td>\n",
       "      <td>11:39:29.30</td>\n",
       "      <td>Io 11:00</td>\n",
       "      <td>Io</td>\n",
       "      <td>1.01129</td>\n",
       "      <td>[= 'Obs #1, Exp 1.    ' / Comment]</td>\n",
       "      <td>NIRSPEC-6</td>\n",
       "      <td>30</td>\n",
       "      <td>nov05s0038.fits</td>\n",
       "      <td>0</td>\n",
       "    </tr>\n",
       "  </tbody>\n",
       "</table>\n",
       "</div>"
      ],
      "text/plain": [
       "0 Right Ascension (decimal degrees) Declination (decimal degrees)  \\\n",
       "1                    #### Error ###                #### Error ###   \n",
       "2                    #### Error ###                #### Error ###   \n",
       "3                    #### Error ###                #### Error ###   \n",
       "4                    #### Error ###                #### Error ###   \n",
       "5                    #### Error ###                #### Error ###   \n",
       "6                    #### Error ###                #### Error ###   \n",
       "7                            73.403                       25.3644   \n",
       "8                           73.4011                       25.3683   \n",
       "9                           73.3063                       21.7151   \n",
       "\n",
       "0         UT time     Target name Object name Airmass (unitless)  \\\n",
       "1  #### Error ###  #### Error ###                 #### Error ###   \n",
       "2  #### Error ###  #### Error ###                 #### Error ###   \n",
       "3  #### Error ###  #### Error ###                 #### Error ###   \n",
       "4  #### Error ###  #### Error ###                 #### Error ###   \n",
       "5  #### Error ###  #### Error ###                 #### Error ###   \n",
       "6  #### Error ###  #### Error ###                 #### Error ###   \n",
       "7     10:47:05.29         HD31033     HD31033            1.07232   \n",
       "8     10:47:40.94         HD31033     HD31033            1.07136   \n",
       "9     11:39:29.30        Io 11:00          Io            1.01129   \n",
       "\n",
       "0                     Comment Entries Filter names Exposure times (seconds)  \\\n",
       "1  [= 'flat lamp off     ' / Comment]    NIRSPEC-6                     0.25   \n",
       "2  [= 'flat field        ' / Comment]    NIRSPEC-6                     0.25   \n",
       "3  [= 'NeArXeKr          ' / Comment]    NIRSPEC-6                      2.5   \n",
       "4  [= 'NeArXeKr          ' / Comment]    NIRSPEC-6                      2.5   \n",
       "5  [= 'flat lamp off     ' / Comment]    NIRSPEC-6                     0.25   \n",
       "6  [= 'flat field        ' / Comment]    NIRSPEC-6                     0.25   \n",
       "7  [= 'Obs #1, Exp 1.    ' / Comment]    NIRSPEC-6                       10   \n",
       "8  [= 'Obs #1, Exp 2.    ' / Comment]    NIRSPEC-6                       10   \n",
       "9  [= 'Obs #1, Exp 1.    ' / Comment]    NIRSPEC-6                       30   \n",
       "\n",
       "0       File names lamp  \n",
       "1  nov05s0002.fits    0  \n",
       "2  nov05s0003.fits    1  \n",
       "3  nov05s0004.fits    0  \n",
       "4  nov05s0005.fits    0  \n",
       "5  nov05s0006.fits    0  \n",
       "6  nov05s0007.fits    1  \n",
       "7  nov05s0016.fits    0  \n",
       "8  nov05s0017.fits    0  \n",
       "9  nov05s0038.fits    0  "
      ]
     },
     "execution_count": 109,
     "metadata": {},
     "output_type": "execute_result"
    }
   ],
   "source": [
    "row_length = len(file_array) - 1\n",
    "ut_time = [\"UT time\"] * row_length\n",
    "ra = [\"Right Ascension (decimal degrees)\"] * row_length\n",
    "dec = [\"Declination (decimal degrees)\"] * row_length\n",
    "airmass = [\"Airmass (unitless)\"] * row_length\n",
    "object_name = [\"Object name\"] * row_length\n",
    "target_name = [\"Target name\"] * row_length\n",
    "comment_entry = [\"Comment Entries\"] * row_length\n",
    "filter_name = [\"Filter names\"] * row_length\n",
    "exposure_time = [\"Exposure times (seconds)\"] * row_length\n",
    "file_path = [\"File names\"] * row_length\n",
    "flat = [\"lamp\"] * row_length\n",
    "\n",
    "index_range = 1 + np.array((range(len(file_array) - 2)))\n",
    "for index in index_range:\n",
    "    path = directory + \"\\\\\" + file_array[index]\n",
    "    hdul = fits.open(name = path, ignore_missing_end=True);\n",
    "    ra[index] = hdul[0].header['RA']\n",
    "    dec[index] = hdul[0].header['DEC']\n",
    "    ut_time[index] = hdul[0].header['UTC']   \n",
    "    target_name[index] = hdul[0].header['TARGNAME']\n",
    "    object_name[index] = hdul[0].header['OBJECT']\n",
    "    airmass[index] = hdul[0].header['AIRMASS']\n",
    "    comment_entry[index] = hdul[0].header['COMMENT']\n",
    "    filter_name[index] = hdul[0].header['FILNAME']\n",
    "    exposure_time[index] = (hdul[0].header['ITIME'] * \n",
    "                                hdul[0].header['COADDS'])\n",
    "    file_path[index] = file_array[index]\n",
    "    flat[index] = hdul[0].header['FLAT']\n",
    "    hdul.close();\n",
    "    \n",
    "table = pd.DataFrame(list(zip(ra, dec, ut_time, target_name, \n",
    "            object_name, airmass, comment_entry, filter_name, \n",
    "            exposure_time, file_path, flat)));\n",
    "table.columns = table.iloc[0,:]\n",
    "table = table.iloc[1: , :]\n",
    "table"
   ]
  },
  {
   "cell_type": "markdown",
   "metadata": {},
   "source": [
    "# Part II: Flat Field and Spatial Rectification"
   ]
  },
  {
   "cell_type": "markdown",
   "metadata": {},
   "source": [
    "Make a flat field by taking each \"lamp on\" flat field and subtracting the neighboring \"lamp off\" flat field, then averaging the two resulting flats together. Normalizing this flat field is a little tricker because you only want to normalize the illuminated region, which is not rectangular. There are many ways to do this. The way this notebook will describe is to do the spatial rectification first (i.e. turning the illuminated band into a rectangle), and then to apply the rectified flat-field (after cropping out the non-illuminated region) to the rectified and cropped images. An alternative approach that you're welcome to use it to divide out the flats before rectifying, but you will need to make sure to normalize it using only the illuminated region."
   ]
  },
  {
   "cell_type": "code",
   "execution_count": 123,
   "metadata": {},
   "outputs": [
    {
     "name": "stdout",
     "output_type": "stream",
     "text": [
      "C:\\Users\\engin\\Documents\\GitHub\\Ay_Ge_107\\Ay107Spec\\nov05s0039.fits\n"
     ]
    },
    {
     "data": {
      "text/html": [
       "<div>\n",
       "<style scoped>\n",
       "    .dataframe tbody tr th:only-of-type {\n",
       "        vertical-align: middle;\n",
       "    }\n",
       "\n",
       "    .dataframe tbody tr th {\n",
       "        vertical-align: top;\n",
       "    }\n",
       "\n",
       "    .dataframe thead th {\n",
       "        text-align: right;\n",
       "    }\n",
       "</style>\n",
       "<table border=\"1\" class=\"dataframe\">\n",
       "  <thead>\n",
       "    <tr style=\"text-align: right;\">\n",
       "      <th></th>\n",
       "      <th>Right Ascension (decimal degrees)</th>\n",
       "      <th>Declination (decimal degrees)</th>\n",
       "      <th>UT time</th>\n",
       "      <th>Target name</th>\n",
       "      <th>Object name</th>\n",
       "      <th>Airmass (unitless)</th>\n",
       "      <th>Comment Entries</th>\n",
       "      <th>Filter names</th>\n",
       "      <th>Exposure times (seconds)</th>\n",
       "      <th>File names</th>\n",
       "      <th>lamp</th>\n",
       "    </tr>\n",
       "  </thead>\n",
       "  <tbody>\n",
       "    <tr>\n",
       "      <th>1</th>\n",
       "      <td>#### Error ###</td>\n",
       "      <td>#### Error ###</td>\n",
       "      <td>#### Error ###</td>\n",
       "      <td>#### Error ###</td>\n",
       "      <td></td>\n",
       "      <td>#### Error ###</td>\n",
       "      <td>[= 'flat lamp off     ' / Comment]</td>\n",
       "      <td>NIRSPEC-6</td>\n",
       "      <td>0.25</td>\n",
       "      <td>nov05s0002.fits</td>\n",
       "      <td>0</td>\n",
       "    </tr>\n",
       "  </tbody>\n",
       "</table>\n",
       "</div>"
      ],
      "text/plain": [
       "0 Right Ascension (decimal degrees) Declination (decimal degrees)  \\\n",
       "1                    #### Error ###                #### Error ###   \n",
       "\n",
       "0         UT time     Target name Object name Airmass (unitless)  \\\n",
       "1  #### Error ###  #### Error ###                 #### Error ###   \n",
       "\n",
       "0                     Comment Entries Filter names Exposure times (seconds)  \\\n",
       "1  [= 'flat lamp off     ' / Comment]    NIRSPEC-6                     0.25   \n",
       "\n",
       "0       File names lamp  \n",
       "1  nov05s0002.fits    0  "
      ]
     },
     "execution_count": 123,
     "metadata": {},
     "output_type": "execute_result"
    }
   ],
   "source": [
    "dir(hdul[0])\n",
    "print(directory + \"\\\\\" + file_array[-1])\n",
    "#directory + \"\\\\\" + file_array[index]\n",
    "table.loc[[1]]\n",
    "#data = np.array(hdul[0].data, dtype='float')"
   ]
  },
  {
   "cell_type": "code",
   "execution_count": null,
   "metadata": {},
   "outputs": [],
   "source": []
  },
  {
   "cell_type": "markdown",
   "metadata": {},
   "source": [
    "Use the two star images to do the spatial rectification. First, subtract the second star image from the first and display the result. Then, determine the y-coordinate of the star at every point along its spectrum. The curve described by that sequence of coordinates is known as the \"trace\". Draw the trace on top of the images to confirm that it is in the right place."
   ]
  },
  {
   "cell_type": "code",
   "execution_count": null,
   "metadata": {},
   "outputs": [],
   "source": []
  },
  {
   "cell_type": "code",
   "execution_count": null,
   "metadata": {},
   "outputs": [],
   "source": []
  },
  {
   "cell_type": "markdown",
   "metadata": {},
   "source": [
    "# Q2a. Display the stellar pair difference image with the trace for both the positive and negative spectrum drawn on it"
   ]
  },
  {
   "cell_type": "code",
   "execution_count": null,
   "metadata": {},
   "outputs": [],
   "source": []
  },
  {
   "cell_type": "code",
   "execution_count": null,
   "metadata": {},
   "outputs": [],
   "source": []
  },
  {
   "cell_type": "code",
   "execution_count": null,
   "metadata": {},
   "outputs": [],
   "source": []
  },
  {
   "cell_type": "markdown",
   "metadata": {},
   "source": [
    "These y-coordinates you've calculated for each trace represent the offset of each column that needs to be applied to straighten out the spectrum. Average together the two traces for the positive and negative spectra. Then flatten your star pair image by offsetting each column by the amount of the trace."
   ]
  },
  {
   "cell_type": "markdown",
   "metadata": {},
   "source": [
    "# Q2b: Display the rectified star spectrum pair, cropping down to the region of the detector just in the vicinity of the star. The star spectra should lie straight. "
   ]
  },
  {
   "cell_type": "code",
   "execution_count": null,
   "metadata": {},
   "outputs": [],
   "source": []
  },
  {
   "cell_type": "markdown",
   "metadata": {},
   "source": [
    "Now, let's revisit the flat field to create a rectified flat that will be applied to your rectified spectral images. Apply the offsets and crop the flat in exactly the same way you did for the star pair image. Make sure that the new cropped size excludes any of the un-illuminated pixels, which will be visible in the rectified flat if they're not cropped. Finally, divide the rectified, cropped flat field by its median value to normalize it to 1. This is your final flat field that will be applied to the data."
   ]
  },
  {
   "cell_type": "markdown",
   "metadata": {},
   "source": [
    "# Q2c. Plot your rectified, cropped, and normalized flat field"
   ]
  },
  {
   "cell_type": "code",
   "execution_count": null,
   "metadata": {},
   "outputs": [],
   "source": []
  },
  {
   "cell_type": "markdown",
   "metadata": {},
   "source": [
    "## Q2d: Divide your rectified star pair image by the normalized flat field and plot the star pair image before and after the flat correction."
   ]
  },
  {
   "cell_type": "code",
   "execution_count": null,
   "metadata": {},
   "outputs": [],
   "source": []
  },
  {
   "cell_type": "markdown",
   "metadata": {},
   "source": [
    "Determine the center y-coordinate of each spectrum. Then, extract the spectrum as follows. For each x-coordinate (wavelength axis), add up pixels within a y-distance \"a\" of the center of the spectrum. Then, calculate the background for every column by averaging the pixels that are between a distance \"b\" and a distance \"c\" of the center of the spectrum. These are the equivalent a/b/c from the imaging aperture photometry, we're just working in one dimension instead of two, and calculating the background separately at every wavelength."
   ]
  },
  {
   "cell_type": "code",
   "execution_count": null,
   "metadata": {},
   "outputs": [],
   "source": []
  },
  {
   "cell_type": "markdown",
   "metadata": {},
   "source": [
    "# Q2e. Plot the rectified stellar spectrum image with the apertures used for the extraction indicated. i.e. plot as horizontal lines on the rectified star pair image: coord+a, coord-a, coord+b, coord-b, coord+c, and coord-c for each of the two spectra, where \"coord\" is the y-coordinate at the center of that spectrum"
   ]
  },
  {
   "cell_type": "code",
   "execution_count": null,
   "metadata": {},
   "outputs": [],
   "source": []
  },
  {
   "cell_type": "code",
   "execution_count": null,
   "metadata": {},
   "outputs": [],
   "source": []
  },
  {
   "cell_type": "code",
   "execution_count": null,
   "metadata": {},
   "outputs": [],
   "source": []
  },
  {
   "cell_type": "markdown",
   "metadata": {},
   "source": [
    "Average together the two spectra you extracted, making sure you've subtracted the background and taken the negative of the negative spectrum so that both are positive. Divide by (exposure time x coadds), and label the plot in counts/sec."
   ]
  },
  {
   "cell_type": "markdown",
   "metadata": {},
   "source": [
    "# Q2f: Plot the averaged stellar spectrum in counts/sec vs. pixel"
   ]
  },
  {
   "cell_type": "code",
   "execution_count": null,
   "metadata": {},
   "outputs": [],
   "source": []
  },
  {
   "cell_type": "markdown",
   "metadata": {},
   "source": [
    "# Q3: Repeat the same procedure as above for the Io pair and plot the Io spectrum in counts/sec vs. pixel"
   ]
  },
  {
   "cell_type": "code",
   "execution_count": null,
   "metadata": {},
   "outputs": [],
   "source": []
  },
  {
   "cell_type": "code",
   "execution_count": null,
   "metadata": {},
   "outputs": [],
   "source": []
  },
  {
   "cell_type": "code",
   "execution_count": null,
   "metadata": {},
   "outputs": [],
   "source": []
  },
  {
   "cell_type": "code",
   "execution_count": null,
   "metadata": {},
   "outputs": [],
   "source": []
  },
  {
   "cell_type": "code",
   "execution_count": null,
   "metadata": {},
   "outputs": [],
   "source": []
  },
  {
   "cell_type": "code",
   "execution_count": null,
   "metadata": {},
   "outputs": [],
   "source": []
  },
  {
   "cell_type": "code",
   "execution_count": null,
   "metadata": {},
   "outputs": [],
   "source": []
  },
  {
   "cell_type": "code",
   "execution_count": null,
   "metadata": {},
   "outputs": [],
   "source": []
  },
  {
   "cell_type": "markdown",
   "metadata": {},
   "source": [
    "# Part III: Wavelength Calibration"
   ]
  },
  {
   "cell_type": "markdown",
   "metadata": {},
   "source": [
    "Rectify, crop and display an arc lamp image. The lines will likely not be perfectly vertical even after the rectification. In a full data reduction pipeline you would correct for this, but for this tutorial we will ignore it."
   ]
  },
  {
   "cell_type": "code",
   "execution_count": null,
   "metadata": {},
   "outputs": [],
   "source": []
  },
  {
   "cell_type": "markdown",
   "metadata": {},
   "source": [
    "# Q4a. Display the rectified, flat-fielded, and cropped arc lamp image"
   ]
  },
  {
   "cell_type": "code",
   "execution_count": null,
   "metadata": {},
   "outputs": [],
   "source": []
  },
  {
   "cell_type": "markdown",
   "metadata": {},
   "source": [
    "Plot a 1-D horizontal cut, i.e. a spectrum for a location around the middle of the slit"
   ]
  },
  {
   "cell_type": "code",
   "execution_count": null,
   "metadata": {},
   "outputs": [],
   "source": []
  },
  {
   "cell_type": "markdown",
   "metadata": {},
   "source": [
    "Using this spectrum, you will need to correctly identify at least three of the emission lines to determine the function converting pixel coordinate along the spectrum to wavelength. Below is a list of the wavelengths (in microns) of emission lines from the gasses in the arc lamp image. Not all emission lines in the image will have identifications in this list, and not all identifications will have corresponding lines. To attempt to identify them, consider that the spectrum measured should start close to 1.618 microns (left side if you used the np.rot90 function to rotate) and end close to 2.041 microns. And, pixel value should be close to linearly related to wavelength. This is the trickiest part of reducing spectral data!"
   ]
  },
  {
   "cell_type": "code",
   "execution_count": 2,
   "metadata": {},
   "outputs": [],
   "source": [
    "# Emission lines from the arc lamp gasses, in microns\n",
    "lines = np.array([1.64414,1.65247,1.65543,1.710811,1.716663,1.723492,1.733023,1.737748,1.741419,1.74497,1.762139,1.763526,\n",
    "                  1.777507,1.78288,1.800663,1.804072,1.863024,1.86373,1.870102,1.880273,1.98230,\n",
    "                  1.99503,1.99712,2.00314,2.00751,2.021539,2.03224,2.042955,2.05741,2.06219,2.063185,\n",
    "                  2.06528,2.07390,2.08168,2.09918])"
   ]
  },
  {
   "cell_type": "code",
   "execution_count": null,
   "metadata": {},
   "outputs": [],
   "source": []
  },
  {
   "cell_type": "markdown",
   "metadata": {},
   "source": [
    "# Q4b. Once you have identified 3 lines, plot the arc spectrum from above again, and indicate the three (or more) lines you're using. Print out the pixel value and wavelength for each."
   ]
  },
  {
   "cell_type": "code",
   "execution_count": null,
   "metadata": {},
   "outputs": [],
   "source": []
  },
  {
   "cell_type": "markdown",
   "metadata": {},
   "source": [
    "# Q4c. Make a plot with your line identifications: For each line you identified, plot the pixel value on the x axis and its wavelength on the y axis. If your three points do not lie close to on a line, you've identified something incorrectly. Now, fit a polynomial (degree 1 or 2, but 1 should suffice) to this line. numpy's polyfit function is simple and adequate. That polynomial is your function to convert pixel to wavelength. Add the polynomial to your plot."
   ]
  },
  {
   "cell_type": "code",
   "execution_count": null,
   "metadata": {},
   "outputs": [],
   "source": []
  },
  {
   "cell_type": "markdown",
   "metadata": {},
   "source": [
    "# Q4d: Plot the Io spectrum in counts/sec vs. wavelength."
   ]
  },
  {
   "cell_type": "code",
   "execution_count": null,
   "metadata": {},
   "outputs": [],
   "source": []
  },
  {
   "cell_type": "markdown",
   "metadata": {},
   "source": [
    "# Part IV: Telluric Correction"
   ]
  },
  {
   "cell_type": "markdown",
   "metadata": {},
   "source": [
    "We will correct the spectrum for atmospheric absorption analogously to the photometry tutorial, but now using an entire spectrum for the calibration star instead of a single value for a given filter. So, you will create a conversion spectrum (instead of conversion value) that can be applied to your data. The conversion spectrum is a stellar model divided by the stellar spectrum in counts/sec, and thus converts the data from counts/sec into whatever physical units the model was in."
   ]
  },
  {
   "cell_type": "markdown",
   "metadata": {},
   "source": [
    "Create a stellar model assuming your star is a 9000 K blackbody. We are not going to worry about absolute scaling of the spectrum, or about getting absolute photometry. So, feel free to rescale the model spectrum by a constant to bring it to a different normalization if you like."
   ]
  },
  {
   "cell_type": "code",
   "execution_count": 3,
   "metadata": {},
   "outputs": [],
   "source": [
    "def planck(lam,T):\n",
    "    # Inputs:\n",
    "    # lam: an array of wavelengths in microns\n",
    "    # T: temperature in Kelvins\n",
    "    # Output:\n",
    "    # Array of flux densities at each wavelength\n",
    "    lam = lam*1e-6 # convert from microns to meters\n",
    "    h = 6.626e-34 # m^2 kg/s\n",
    "    kb = 1.38e-23 # m^2 kg s^-2 K^-1\n",
    "    c = 3e8 # m/s\n",
    "    Blam = (2.0*h*c**2./lam**5.)/(np.exp(h*c/(lam*kb*T))-1) # SI units\n",
    "    return Blam"
   ]
  },
  {
   "cell_type": "code",
   "execution_count": null,
   "metadata": {},
   "outputs": [],
   "source": []
  },
  {
   "cell_type": "markdown",
   "metadata": {},
   "source": [
    "# Q5a: Plot the final Io spectrum, in units of Normalized Flux Density vs. Wavelength. Overplot a Planck function that approximates the overall shape of the Io spectrum. Print out the temperature that provided the best fit."
   ]
  },
  {
   "cell_type": "code",
   "execution_count": null,
   "metadata": {},
   "outputs": [],
   "source": []
  },
  {
   "cell_type": "markdown",
   "metadata": {},
   "source": [
    "# Q5b. Finally, plot the Io spectrum minus the best-fit Planck spectrum. There is a Sulfur Monoxide gas emission band in the spectrum. Identify where it is. It may help to look at a transmission spectrum of Earth's atmosphere above Mauna Kea, which will help you identify which of the features in Io's spectrum are actually due to Earth."
   ]
  },
  {
   "cell_type": "code",
   "execution_count": null,
   "metadata": {},
   "outputs": [],
   "source": []
  },
  {
   "cell_type": "markdown",
   "metadata": {},
   "source": [
    "These data are published in de Kleer et al (2019) https://arxiv.org/pdf/1808.03321.pdf, and you can see the resultant spectrum in Figure 7, after a more complex data reduction procedure and after combining a larger volume of spectra pairs."
   ]
  }
 ],
 "metadata": {
  "kernelspec": {
   "display_name": "Python 3",
   "language": "python",
   "name": "python3"
  },
  "language_info": {
   "codemirror_mode": {
    "name": "ipython",
    "version": 3
   },
   "file_extension": ".py",
   "mimetype": "text/x-python",
   "name": "python",
   "nbconvert_exporter": "python",
   "pygments_lexer": "ipython3",
   "version": "3.8.3"
  }
 },
 "nbformat": 4,
 "nbformat_minor": 4
}
